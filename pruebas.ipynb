{
 "cells": [
  {
   "cell_type": "code",
   "execution_count": 13,
   "metadata": {},
   "outputs": [],
   "source": [
    "from flask import Flask, request, jsonify\n",
    "from funciones import *\n",
    "import os\n",
    "import pandas as pd\n",
    "from scipy import sparse\n",
    "from sklearn.metrics.pairwise import cosine_similarity"
   ]
  },
  {
   "cell_type": "code",
   "execution_count": 2,
   "metadata": {},
   "outputs": [],
   "source": [
    "movies_soup = pd.read_parquet('./input/movies_with_credits.parquet')\n",
    "movies_with_genre = pd.read_parquet('./input/movies_with_genre.parquet')\n",
    "ratings_sample = pd.read_parquet('./input/ratings_sample.parquet')\n",
    "ratings_sample = ratings_sample[ratings_sample['movieId'].isin(movies_soup['id'])]\n",
    "ratings_sample = ratings_sample[ratings_sample['movieId'].isin(movies_with_genre['id'])]\n",
    "tags_matrix = sparse.load_npz('./input/tags_matrix.npz')\n",
    "similarity_matrix = cosine_similarity(tags_matrix,tags_matrix)\n",
    "_, modelKNN = dump.load('Modelos/modelKNN')\n",
    "_, modelSVD = dump.load('Modelos/modelSVD')"
   ]
  },
  {
   "cell_type": "code",
   "execution_count": 3,
   "metadata": {},
   "outputs": [],
   "source": [
    "dict = {'anoguera':1,\n",
    "        'aalfie':2,\n",
    "        'larbues':3\n",
    "        }"
   ]
  },
  {
   "cell_type": "code",
   "execution_count": 18,
   "metadata": {},
   "outputs": [],
   "source": [
    "user_id = dict.get('anoguera')"
   ]
  },
  {
   "cell_type": "code",
   "execution_count": 19,
   "metadata": {},
   "outputs": [],
   "source": [
    "def predict():\n",
    "    # global movies_soup, movies_with_genre, ratings_sample, tags_matrix, similarity_matrix, modelKNN, modelSVD\n",
    "    try:\n",
    "        # data = request.get_json()\n",
    "        # print(data)\n",
    "        # user_id = data.get('user_id', \"\")\n",
    "        result_df = recommender_hybrid(ratings_sample, movies_soup, similarity_matrix, movies_with_genre, modelKNN, modelSVD, user_id, n = 5)\n",
    "        # Obtener solo los títulos de las películas si result_df es un DataFrame\n",
    "        if isinstance(result_df, pd.DataFrame):\n",
    "            titles = result_df['title'].tolist()\n",
    "            print(titles)\n",
    "            return jsonify({'result': titles}), 200\n",
    "        else:\n",
    "            return jsonify({'error': str(e)}), 500\n",
    "\n",
    "    except Exception as e:\n",
    "        print(e)\n",
    "        return jsonify({'error': str(e)}), 500"
   ]
  },
  {
   "cell_type": "code",
   "execution_count": 20,
   "metadata": {},
   "outputs": [
    {
     "name": "stdout",
     "output_type": "stream",
     "text": [
      "['The Tulse Luper Suitcases, Part 1: The Moab Story', 'A Place in the Sun', 'Once Were Warriors', 'The Arrival of a Train at La Ciotat', 'Los Olvidados']\n"
     ]
    },
    {
     "data": {
      "text/plain": [
       "<Response 165 bytes [200 OK]>"
      ]
     },
     "execution_count": 20,
     "metadata": {},
     "output_type": "execute_result"
    }
   ],
   "source": [
    "predict()"
   ]
  },
  {
   "cell_type": "code",
   "execution_count": 25,
   "metadata": {},
   "outputs": [
    {
     "name": "stdout",
     "output_type": "stream",
     "text": [
      "                           title  similarity_score\n",
      "26086        Murder at the Savoy              0.55\n",
      "39108   The Democratic Terrorist              0.40\n",
      "8832         Code Name Coq Rouge              0.37\n",
      "36157               Swedenhielms              0.22\n",
      "48386             Unlucky Charms              0.21\n",
      "6160         Blood in the Mobile              0.21\n",
      "30769            Raising the Bar              0.18\n",
      "33594              Shocking Asia              0.18\n",
      "27319          Nobel's Last Will              0.18\n",
      "1440          A Place in the Sun              0.17\n",
      "18119  How to Build a Better Boy              0.17\n",
      "44229          The Saga of Biorn              0.16\n",
      "9171                   Connected              0.16\n",
      "11311                 Divergence              0.16\n",
      "15284                 Gen-Y Cops              0.15\n",
      "25229          Miraklet i Viskan              0.15\n",
      "41405         The Ketchup Effect              0.15\n",
      "7392              Call of Heroes              0.15\n",
      "31670                 Rob-B-Hood              0.14\n",
      "13462                False Trail              0.14\n"
     ]
    }
   ],
   "source": [
    "try:\n",
    "    print(recommender_movies(ratings_sample, movies_soup, similarity_matrix, user_id ,10 * 2))\n",
    "except Exception as e:\n",
    "    print(e)"
   ]
  },
  {
   "cell_type": "code",
   "execution_count": 21,
   "metadata": {},
   "outputs": [
    {
     "data": {
      "text/html": [
       "<div>\n",
       "<style scoped>\n",
       "    .dataframe tbody tr th:only-of-type {\n",
       "        vertical-align: middle;\n",
       "    }\n",
       "\n",
       "    .dataframe tbody tr th {\n",
       "        vertical-align: top;\n",
       "    }\n",
       "\n",
       "    .dataframe thead th {\n",
       "        text-align: right;\n",
       "    }\n",
       "</style>\n",
       "<table border=\"1\" class=\"dataframe\">\n",
       "  <thead>\n",
       "    <tr style=\"text-align: right;\">\n",
       "      <th></th>\n",
       "      <th>title</th>\n",
       "      <th>similarity_score</th>\n",
       "    </tr>\n",
       "  </thead>\n",
       "  <tbody>\n",
       "    <tr>\n",
       "      <th>26086</th>\n",
       "      <td>Murder at the Savoy</td>\n",
       "      <td>0.55</td>\n",
       "    </tr>\n",
       "    <tr>\n",
       "      <th>39108</th>\n",
       "      <td>The Democratic Terrorist</td>\n",
       "      <td>0.40</td>\n",
       "    </tr>\n",
       "    <tr>\n",
       "      <th>8832</th>\n",
       "      <td>Code Name Coq Rouge</td>\n",
       "      <td>0.37</td>\n",
       "    </tr>\n",
       "    <tr>\n",
       "      <th>36157</th>\n",
       "      <td>Swedenhielms</td>\n",
       "      <td>0.22</td>\n",
       "    </tr>\n",
       "    <tr>\n",
       "      <th>48386</th>\n",
       "      <td>Unlucky Charms</td>\n",
       "      <td>0.21</td>\n",
       "    </tr>\n",
       "    <tr>\n",
       "      <th>6160</th>\n",
       "      <td>Blood in the Mobile</td>\n",
       "      <td>0.21</td>\n",
       "    </tr>\n",
       "    <tr>\n",
       "      <th>30769</th>\n",
       "      <td>Raising the Bar</td>\n",
       "      <td>0.18</td>\n",
       "    </tr>\n",
       "    <tr>\n",
       "      <th>33594</th>\n",
       "      <td>Shocking Asia</td>\n",
       "      <td>0.18</td>\n",
       "    </tr>\n",
       "    <tr>\n",
       "      <th>27319</th>\n",
       "      <td>Nobel's Last Will</td>\n",
       "      <td>0.18</td>\n",
       "    </tr>\n",
       "    <tr>\n",
       "      <th>1440</th>\n",
       "      <td>A Place in the Sun</td>\n",
       "      <td>0.17</td>\n",
       "    </tr>\n",
       "    <tr>\n",
       "      <th>18119</th>\n",
       "      <td>How to Build a Better Boy</td>\n",
       "      <td>0.17</td>\n",
       "    </tr>\n",
       "    <tr>\n",
       "      <th>44229</th>\n",
       "      <td>The Saga of Biorn</td>\n",
       "      <td>0.16</td>\n",
       "    </tr>\n",
       "    <tr>\n",
       "      <th>9171</th>\n",
       "      <td>Connected</td>\n",
       "      <td>0.16</td>\n",
       "    </tr>\n",
       "    <tr>\n",
       "      <th>11311</th>\n",
       "      <td>Divergence</td>\n",
       "      <td>0.16</td>\n",
       "    </tr>\n",
       "    <tr>\n",
       "      <th>15284</th>\n",
       "      <td>Gen-Y Cops</td>\n",
       "      <td>0.15</td>\n",
       "    </tr>\n",
       "    <tr>\n",
       "      <th>25229</th>\n",
       "      <td>Miraklet i Viskan</td>\n",
       "      <td>0.15</td>\n",
       "    </tr>\n",
       "    <tr>\n",
       "      <th>41405</th>\n",
       "      <td>The Ketchup Effect</td>\n",
       "      <td>0.15</td>\n",
       "    </tr>\n",
       "    <tr>\n",
       "      <th>7392</th>\n",
       "      <td>Call of Heroes</td>\n",
       "      <td>0.15</td>\n",
       "    </tr>\n",
       "    <tr>\n",
       "      <th>31670</th>\n",
       "      <td>Rob-B-Hood</td>\n",
       "      <td>0.14</td>\n",
       "    </tr>\n",
       "    <tr>\n",
       "      <th>13462</th>\n",
       "      <td>False Trail</td>\n",
       "      <td>0.14</td>\n",
       "    </tr>\n",
       "  </tbody>\n",
       "</table>\n",
       "</div>"
      ],
      "text/plain": [
       "                           title  similarity_score\n",
       "26086        Murder at the Savoy              0.55\n",
       "39108   The Democratic Terrorist              0.40\n",
       "8832         Code Name Coq Rouge              0.37\n",
       "36157               Swedenhielms              0.22\n",
       "48386             Unlucky Charms              0.21\n",
       "6160         Blood in the Mobile              0.21\n",
       "30769            Raising the Bar              0.18\n",
       "33594              Shocking Asia              0.18\n",
       "27319          Nobel's Last Will              0.18\n",
       "1440          A Place in the Sun              0.17\n",
       "18119  How to Build a Better Boy              0.17\n",
       "44229          The Saga of Biorn              0.16\n",
       "9171                   Connected              0.16\n",
       "11311                 Divergence              0.16\n",
       "15284                 Gen-Y Cops              0.15\n",
       "25229          Miraklet i Viskan              0.15\n",
       "41405         The Ketchup Effect              0.15\n",
       "7392              Call of Heroes              0.15\n",
       "31670                 Rob-B-Hood              0.14\n",
       "13462                False Trail              0.14"
      ]
     },
     "execution_count": 21,
     "metadata": {},
     "output_type": "execute_result"
    }
   ],
   "source": [
    "recommender_movies(ratings_sample, movies_soup, similarity_matrix, user_id ,10 * 2)"
   ]
  },
  {
   "cell_type": "code",
   "execution_count": 30,
   "metadata": {},
   "outputs": [],
   "source": [
    "movie_name = 'The Democratic Terrorist'"
   ]
  },
  {
   "cell_type": "code",
   "execution_count": 31,
   "metadata": {},
   "outputs": [],
   "source": [
    "def predict_movie():\n",
    "    # global movies_with_genre\n",
    "    try:\n",
    "        # data = request.get_json()\n",
    "        # print(data)\n",
    "        # movie_name = data.get('movie', \"\")\n",
    "        result_df = recommender(movies_with_genre,similarity_matrix, movie_name, 5)\n",
    "\n",
    "        # Obtener solo los títulos de las películas si result_df es un DataFrame\n",
    "        if isinstance(result_df, pd.DataFrame):\n",
    "            titles = result_df['title'].tolist()\n",
    "            print(titles)\n",
    "            return jsonify({'result': titles}), 200\n",
    "        else:\n",
    "            return jsonify({'error': 'Result is not a DataFrame'}), 500\n",
    "\n",
    "    except Exception as e:\n",
    "        print(e)\n",
    "        return jsonify({'error': str(e)}), 500"
   ]
  },
  {
   "cell_type": "code",
   "execution_count": 32,
   "metadata": {},
   "outputs": [
    {
     "name": "stdout",
     "output_type": "stream",
     "text": [
      "index 0 is out of bounds for axis 0 with size 0\n"
     ]
    },
    {
     "ename": "RuntimeError",
     "evalue": "Working outside of application context.\n\nThis typically means that you attempted to use functionality that needed\nthe current application. To solve this, set up an application context\nwith app.app_context(). See the documentation for more information.",
     "output_type": "error",
     "traceback": [
      "\u001b[0;31m---------------------------------------------------------------------------\u001b[0m",
      "\u001b[0;31mRuntimeError\u001b[0m                              Traceback (most recent call last)",
      "\u001b[1;32m/Users/anoguera/Documents/GitHub/Trabajo2APA/pruebas.ipynb Cell 11\u001b[0m line \u001b[0;36m1\n\u001b[0;32m----> <a href='vscode-notebook-cell:/Users/anoguera/Documents/GitHub/Trabajo2APA/pruebas.ipynb#X22sZmlsZQ%3D%3D?line=0'>1</a>\u001b[0m predict_movie()\n",
      "\u001b[1;32m/Users/anoguera/Documents/GitHub/Trabajo2APA/pruebas.ipynb Cell 11\u001b[0m line \u001b[0;36m1\n\u001b[1;32m     <a href='vscode-notebook-cell:/Users/anoguera/Documents/GitHub/Trabajo2APA/pruebas.ipynb#X22sZmlsZQ%3D%3D?line=16'>17</a>\u001b[0m \u001b[39mexcept\u001b[39;00m \u001b[39mException\u001b[39;00m \u001b[39mas\u001b[39;00m e:\n\u001b[1;32m     <a href='vscode-notebook-cell:/Users/anoguera/Documents/GitHub/Trabajo2APA/pruebas.ipynb#X22sZmlsZQ%3D%3D?line=17'>18</a>\u001b[0m     \u001b[39mprint\u001b[39m(e)\n\u001b[0;32m---> <a href='vscode-notebook-cell:/Users/anoguera/Documents/GitHub/Trabajo2APA/pruebas.ipynb#X22sZmlsZQ%3D%3D?line=18'>19</a>\u001b[0m     \u001b[39mreturn\u001b[39;00m jsonify({\u001b[39m'\u001b[39;49m\u001b[39merror\u001b[39;49m\u001b[39m'\u001b[39;49m: \u001b[39mstr\u001b[39;49m(e)}), \u001b[39m500\u001b[39m\n",
      "File \u001b[0;32m~/anaconda3/envs/apa/lib/python3.11/site-packages/flask/json/__init__.py:170\u001b[0m, in \u001b[0;36mjsonify\u001b[0;34m(*args, **kwargs)\u001b[0m\n\u001b[1;32m    138\u001b[0m \u001b[39mdef\u001b[39;00m \u001b[39mjsonify\u001b[39m(\u001b[39m*\u001b[39margs: t\u001b[39m.\u001b[39mAny, \u001b[39m*\u001b[39m\u001b[39m*\u001b[39mkwargs: t\u001b[39m.\u001b[39mAny) \u001b[39m-\u001b[39m\u001b[39m>\u001b[39m Response:\n\u001b[1;32m    139\u001b[0m \u001b[39m    \u001b[39m\u001b[39m\"\"\"Serialize the given arguments as JSON, and return a\u001b[39;00m\n\u001b[1;32m    140\u001b[0m \u001b[39m    :class:`~flask.Response` object with the ``application/json``\u001b[39;00m\n\u001b[1;32m    141\u001b[0m \u001b[39m    mimetype. A dict or list returned from a view will be converted to a\u001b[39;00m\n\u001b[0;32m   (...)\u001b[0m\n\u001b[1;32m    168\u001b[0m \u001b[39m    .. versionadded:: 0.2\u001b[39;00m\n\u001b[1;32m    169\u001b[0m \u001b[39m    \"\"\"\u001b[39;00m\n\u001b[0;32m--> 170\u001b[0m     \u001b[39mreturn\u001b[39;00m current_app\u001b[39m.\u001b[39;49mjson\u001b[39m.\u001b[39mresponse(\u001b[39m*\u001b[39margs, \u001b[39m*\u001b[39m\u001b[39m*\u001b[39mkwargs)\n",
      "File \u001b[0;32m~/anaconda3/envs/apa/lib/python3.11/site-packages/werkzeug/local.py:311\u001b[0m, in \u001b[0;36m_ProxyLookup.__get__\u001b[0;34m(self, instance, owner)\u001b[0m\n\u001b[1;32m    308\u001b[0m     \u001b[39mreturn\u001b[39;00m \u001b[39mself\u001b[39m\n\u001b[1;32m    310\u001b[0m \u001b[39mtry\u001b[39;00m:\n\u001b[0;32m--> 311\u001b[0m     obj \u001b[39m=\u001b[39m instance\u001b[39m.\u001b[39;49m_get_current_object()\n\u001b[1;32m    312\u001b[0m \u001b[39mexcept\u001b[39;00m \u001b[39mRuntimeError\u001b[39;00m:\n\u001b[1;32m    313\u001b[0m     \u001b[39mif\u001b[39;00m \u001b[39mself\u001b[39m\u001b[39m.\u001b[39mfallback \u001b[39mis\u001b[39;00m \u001b[39mNone\u001b[39;00m:\n",
      "File \u001b[0;32m~/anaconda3/envs/apa/lib/python3.11/site-packages/werkzeug/local.py:508\u001b[0m, in \u001b[0;36mLocalProxy.__init__.<locals>._get_current_object\u001b[0;34m()\u001b[0m\n\u001b[1;32m    506\u001b[0m     obj \u001b[39m=\u001b[39m local\u001b[39m.\u001b[39mget()\n\u001b[1;32m    507\u001b[0m \u001b[39mexcept\u001b[39;00m \u001b[39mLookupError\u001b[39;00m:\n\u001b[0;32m--> 508\u001b[0m     \u001b[39mraise\u001b[39;00m \u001b[39mRuntimeError\u001b[39;00m(unbound_message) \u001b[39mfrom\u001b[39;00m \u001b[39mNone\u001b[39;00m\n\u001b[1;32m    510\u001b[0m \u001b[39mreturn\u001b[39;00m get_name(obj)\n",
      "\u001b[0;31mRuntimeError\u001b[0m: Working outside of application context.\n\nThis typically means that you attempted to use functionality that needed\nthe current application. To solve this, set up an application context\nwith app.app_context(). See the documentation for more information."
     ]
    }
   ],
   "source": [
    "predict_movie()"
   ]
  }
 ],
 "metadata": {
  "kernelspec": {
   "display_name": "apa",
   "language": "python",
   "name": "python3"
  },
  "language_info": {
   "codemirror_mode": {
    "name": "ipython",
    "version": 3
   },
   "file_extension": ".py",
   "mimetype": "text/x-python",
   "name": "python",
   "nbconvert_exporter": "python",
   "pygments_lexer": "ipython3",
   "version": "3.11.5"
  }
 },
 "nbformat": 4,
 "nbformat_minor": 2
}
