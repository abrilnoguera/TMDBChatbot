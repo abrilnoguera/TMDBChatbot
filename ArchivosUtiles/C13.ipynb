{
 "cells": [
  {
   "cell_type": "markdown",
   "metadata": {},
   "source": [
    "# DEPLOY DE MODELOS"
   ]
  },
  {
   "cell_type": "markdown",
   "metadata": {
    "slideshow": {
     "slide_type": "slide"
    }
   },
   "source": [
    "## Introducción\n",
    "\n",
    "---\n",
    "\n",
    "<img src=\"https://raw.githubusercontent.com/Digital-House-DATA/ds_blend_2021_img/master/M7/CLASE_52_Deploy_Modelos/Presentacion/img/M7_CLASE_52_intro.png\" align=\"center\" />"
   ]
  },
  {
   "cell_type": "markdown",
   "metadata": {
    "slideshow": {
     "slide_type": "subslide"
    }
   },
   "source": [
    "<img src=\"https://raw.githubusercontent.com/Digital-House-DATA/ds_blend_2021_img/master/M7/CLASE_52_Deploy_Modelos/Presentacion/img/M7_CLASE_52_pipe.png\" align=\"center\" />\n",
    "\n",
    "El **deployment** de un modelo de machine learning simplemente significa la **integración del modelo en un entorno de producción existente** que puede tomar una entrada y devolver una salida útil para tomar decisiones comerciales prácticas.\n"
   ]
  },
  {
   "cell_type": "markdown",
   "metadata": {
    "slideshow": {
     "slide_type": "subslide"
    }
   },
   "source": [
    "Pickle, Shelve y Flask son las herramientas que vamos a presentar en esta clase para hacer el deploy de modelos de machine learninng\n",
    "\n",
    "<img src=\"https://raw.githubusercontent.com/Digital-House-DATA/ds_blend_2021_img/master/M7/CLASE_52_Deploy_Modelos/Presentacion/img/M7_CLASE_52_objetivos.png\" align=\"center\" />\n"
   ]
  },
  {
   "cell_type": "markdown",
   "metadata": {
    "slideshow": {
     "slide_type": "subslide"
    }
   },
   "source": [
    "<img src=\"https://raw.githubusercontent.com/Digital-House-DATA/ds_blend_2021_img/master/M7/CLASE_52_Deploy_Modelos/Presentacion/img/M7_CLASE_52_perfiles.png\" align=\"center\" />"
   ]
  },
  {
   "cell_type": "markdown",
   "metadata": {
    "slideshow": {
     "slide_type": "slide"
    }
   },
   "source": [
    "## Serialización\n",
    "\n",
    "---\n",
    "\n",
    "En algunas circunstancias nos encontramos con la necesidad de enviar un objeto python de un programa a otro, o a otra computadora, o **guardarlo** para utilizarlo en algún otro momento o ir **grabando sus diferentes estados**.\n",
    "\n",
    "Existen diferentes soluciones para realizar estas acciones, y dependen del tipo de objeto que se quiera enviar o guardar.\n",
    "\n",
    "Por ejemplo: si tenemos un texto, lo podemos representar en formato json o xml, por otra parte  un dataframe de pandas se puede persistir en un csv o un excel. \n",
    "\n",
    "En el caso de **objetos más complicados como un modelo** de regresión lineal o un knn, ¿como podríamos representarlo?\n"
   ]
  },
  {
   "cell_type": "markdown",
   "metadata": {
    "slideshow": {
     "slide_type": "subslide"
    }
   },
   "source": [
    "<table><tr><td style=\"font-size:16px;width:50%;line-height:2;\">       \n",
    "La serialización es una técnica en donde se representan objetos por medio de una codificación binaria.\n",
    "<br/>\n",
    "Permite realizar la codificación sobre objetos y estructuras de datos.\n",
    "<br/>\n",
    "Es posible enviar a través de la red un objeto serializado como un conjunto de bytes para eventualmente guardarlo, cargarlo en memoria y volverlo a utilizar con la posibilidad de poder transmitirlo.</td><td><img src=\"https://raw.githubusercontent.com/Digital-House-DATA/ds_blend_2021_img/master/M7/CLASE_52_Deploy_Modelos/Presentacion/img/M7_CLASE_52_serialization.png\"/></td></tr></table>    \n"
   ]
  },
  {
   "cell_type": "markdown",
   "metadata": {
    "slideshow": {
     "slide_type": "slide"
    }
   },
   "source": [
    "## Pickle\n",
    "\n",
    "---\n",
    "\n",
    "Para serializar objetos python vamos a utilizar la librería Pickle.\n",
    "\n",
    "Pickle es un estandar python, por lo que **no es compatible con otros lenguajes de programación**.\n",
    "\n",
    "\n",
    "\n",
    "<table><tr><td style=\"font-size:16px;width:30%;line-height:2;\">\n",
    "<h4> ¿Qué puede serializar pickle?</h4><ul>\n",
    "<li> Enteros </li>\n",
    "<li> Float </li>                    \n",
    "<li> Tuplas </li>\n",
    "<li> Listas </li>\n",
    "<li> Diccionarios </li>\n",
    "<li> Conjuntos </li> \n",
    "<li> Funciones </li>\n",
    "<li> Clases </li>\n",
    "    <li> <b>Instancias de Clases</b> </li></ul></td><td><img src=\"https://raw.githubusercontent.com/Digital-House-DATA/ds_blend_2021_img/master/M7/CLASE_52_Deploy_Modelos/Presentacion/img/M7_CLASE_52_pickle.jpg\"/></td></tr></table>    \n",
    "\n",
    "\n",
    "<p style=\"background-color:#f76b5d;\">\n",
    "<b>Pickle no es seguro contra data errónea o maliciosa, se recomienda no deserializar data proveniente de fuentes desconocidas.</b>\n",
    "</p>    "
   ]
  },
  {
   "cell_type": "markdown",
   "metadata": {
    "slideshow": {
     "slide_type": "subslide"
    }
   },
   "source": [
    "### Ejemplo\n",
    "\n",
    "---\n",
    "\n",
    "Podemos probar de guardar dos listas en dos archivos en disco: \n"
   ]
  },
  {
   "cell_type": "code",
   "execution_count": 1,
   "metadata": {
    "slideshow": {
     "slide_type": "fragment"
    }
   },
   "outputs": [],
   "source": [
    "import pickle\n",
    "\n",
    "animales = [\"piton\", \"mono\", \"camello\" ]\n",
    "alimentos = [\"vegetales\", \"mani\", \"agua\"]\n",
    "\n",
    "with open('./Data/animales.pkl', 'wb') as f_animales:\n",
    "    pickle.dump(animales, f_animales)\n",
    "\n",
    "with open('./Data/alimentos.pkl', 'wb') as f_alimentos:\n",
    "    pickle.dump(alimentos, f_alimentos)\n",
    "        "
   ]
  },
  {
   "cell_type": "markdown",
   "metadata": {
    "slideshow": {
     "slide_type": "subslide"
    }
   },
   "source": [
    "Si ya tenemos guardados objetos serializados y queremos levantarla de disco, lo hacemos de la siguiente manera:"
   ]
  },
  {
   "cell_type": "code",
   "execution_count": 2,
   "metadata": {
    "slideshow": {
     "slide_type": "fragment"
    }
   },
   "outputs": [
    {
     "data": {
      "text/plain": [
       "['piton', 'mono', 'camello']"
      ]
     },
     "metadata": {},
     "output_type": "display_data"
    },
    {
     "data": {
      "text/plain": [
       "['vegetales', 'mani', 'agua']"
      ]
     },
     "metadata": {},
     "output_type": "display_data"
    }
   ],
   "source": [
    "with open('./Data/animales.pkl', 'rb') as f_animales:\n",
    "    animales_from_disk = pickle.load(f_animales)\n",
    "    \n",
    "with open('./Data/alimentos.pkl', 'rb') as f_alimentos:\n",
    "    alimentos_from_disk = pickle.load(f_alimentos)    \n",
    "    \n",
    "display(animales_from_disk, alimentos_from_disk)    "
   ]
  },
  {
   "cell_type": "markdown",
   "metadata": {
    "slideshow": {
     "slide_type": "slide"
    }
   },
   "source": [
    "## Shelve\n",
    "\n",
    "---\n",
    "\n",
    "Otra biblioteca que podemos utilizar para serializar es Shelve\n",
    "\n",
    "https://docs.python.org/3/library/shelve.html\n",
    "\n",
    "El módulo Shelve extiende Pickle para proporcionar una forma de realizar la serialización más clara y sencilla, en la que podemos **acceder a la versión serializada de un objeto mediante un string asociada, a través de una estructura parecida a un diccionario**. \n",
    "\n",
    "Es decir, que Shelve nos permite guardar en disco **más de un objeto en el mismo archivo** y acceder a cada uno de estos objetos (ya sean listas, diccionarios, modelos entrenados, etc.) **utilizando las claves tal como si fuera un diccionario**. \n"
   ]
  },
  {
   "cell_type": "markdown",
   "metadata": {
    "slideshow": {
     "slide_type": "subslide"
    }
   },
   "source": [
    "### Ejemplo\n",
    "\n",
    "---\n",
    "\n",
    "Podemos probar de guardar dos listas en un mismo archivo en disco y que cada lista esté identificada con una clave: \n"
   ]
  },
  {
   "cell_type": "code",
   "execution_count": 3,
   "metadata": {
    "slideshow": {
     "slide_type": "fragment"
    }
   },
   "outputs": [],
   "source": [
    "import shelve\n",
    "\n",
    "s = shelve.open(\"./Data/listas.db\")\n",
    "s[\"animales\"] = [\"piton\", \"mono\", \"camello\" ]\n",
    "s[\"alimentos\"]= [\"vegetales\", \"mani\", \"agua\"]\n",
    "s.close()"
   ]
  },
  {
   "cell_type": "markdown",
   "metadata": {
    "slideshow": {
     "slide_type": "subslide"
    }
   },
   "source": [
    "Si ya tenemos guardado una database y queremos levantarla de disco, lo hacemos de la siguiente manera:"
   ]
  },
  {
   "cell_type": "code",
   "execution_count": 4,
   "metadata": {
    "slideshow": {
     "slide_type": "fragment"
    }
   },
   "outputs": [
    {
     "data": {
      "text/plain": [
       "['piton', 'mono', 'camello']"
      ]
     },
     "metadata": {},
     "output_type": "display_data"
    },
    {
     "data": {
      "text/plain": [
       "['vegetales', 'mani', 'agua']"
      ]
     },
     "metadata": {},
     "output_type": "display_data"
    }
   ],
   "source": [
    "s = shelve.open(\"./Data/listas.db\")\n",
    "animales = s[\"animales\"]\n",
    "alimentos = s[\"alimentos\"]\n",
    "display(animales, alimentos)"
   ]
  },
  {
   "cell_type": "markdown",
   "metadata": {
    "slideshow": {
     "slide_type": "slide"
    }
   },
   "source": [
    "## Arquitectura de una aplicación web\n",
    "\n",
    "---\n",
    "\n",
    "<img src=\"https://raw.githubusercontent.com/Digital-House-DATA/ds_blend_2021_img/master/M7/CLASE_52_Deploy_Modelos/Presentacion/img/M7_CLASE_52_web_app_architecture_diagram.png\" align=\"center\" />"
   ]
  },
  {
   "cell_type": "markdown",
   "metadata": {
    "slideshow": {
     "slide_type": "slide"
    }
   },
   "source": [
    "## Flask\n",
    "\n",
    "---\n",
    "\n",
    "¿Qué es una API?\n",
    "\n",
    "API es el acrónimo en inglés de \"interfaz de programación de aplicaciones\" (Application Programming Interface), un software intermediario que permite que las aplicaciones se comuniquen entre sí. Cada vez que se usa una aplicación como Facebook, se envía un mensaje instantáneo o se mira el pronóstico del tiempo en el teléfono, se utiliza una API.\n",
    "\n",
    "\n",
    "¿Qué es Flask?\n",
    "\n",
    "Flask es una librería de Python que funciona como API, y nos permite crear aplicaciones web. \n",
    "\n",
    "Flask permite tomar una **función python y asociarla a una URL** a través del routing utilizando el diseño REST.\n",
    "\n",
    "Vamos a usar Flask para crear APIs que al recibir un request con los datos de las features de una instancia puedan devolver la predicción de un modelo para esta instancia."
   ]
  },
  {
   "cell_type": "markdown",
   "metadata": {
    "slideshow": {
     "slide_type": "slide"
    }
   },
   "source": [
    "## Flask: recordando URL\n",
    "\n",
    "---\n",
    "\n",
    "¿Como hace nuestra aplicación para saber qué es lo que se está pidiendo en la solicitud? \n",
    "\n",
    "<img src=\"https://raw.githubusercontent.com/Digital-House-DATA/ds_blend_2021_img/master/M7/CLASE_51_APIs/Presentacion/img/M7_CLASE_51_url.png\" align=\"center\" />\n",
    "\n",
    "* protocol: Indica el protocolo que será utilizado para acceder. ej HTTP, FTP, HTTPS\n",
    "\n",
    "* host: Indica cómo encontrar en la red el servidor que tiene el recurso.\n",
    "\n",
    "* port: Indica en qué puerto TCP/IP está escuchando el servidor\n",
    "\n",
    "* path: Indica la ruta para localizar el recurso dentro del servidor\n",
    "\n",
    "* query: Indica cuál es la consulta que se está realizando\n",
    "\n",
    "\n"
   ]
  },
  {
   "cell_type": "markdown",
   "metadata": {
    "slideshow": {
     "slide_type": "subslide"
    }
   },
   "source": [
    "Sobre este recurso se puede definir un método http:\n",
    "\n",
    "* GET  : Solicita una representación de un recurso específico (sólo se recuperan datos).\n",
    "* PUT  :  Reemplaza la representación con los datos en la petición.\n",
    "* POST : El método POST se utiliza para enviar una entidad a un recurso (puede generar un cambio).\n",
    "* DELETE : Borra la representación de un recurso.\n"
   ]
  },
  {
   "cell_type": "markdown",
   "metadata": {
    "slideshow": {
     "slide_type": "slide"
    }
   },
   "source": [
    "## Ejemplo\n",
    "\n",
    "---\n",
    "\n",
    "Vamos a crear una aplicación web que exponga la función `mi_saludo` usando como url `http://localhost:5010/hola`\n",
    "\n",
    "Puede accederse a este recurso mediante los métodos GET y POST"
   ]
  },
  {
   "cell_type": "code",
   "execution_count": null,
   "metadata": {},
   "outputs": [],
   "source": [
    "# %pip install Flask"
   ]
  },
  {
   "cell_type": "code",
   "execution_count": 5,
   "metadata": {
    "slideshow": {
     "slide_type": "fragment"
    }
   },
   "outputs": [],
   "source": [
    "from flask import  Flask\n",
    "\n",
    "app = Flask('my_first_webapp')\n",
    "\n",
    "@app.route('/hola', methods=['GET', 'POST'])\n",
    "def mi_saludo():\n",
    "    texto = \"¡Hola, mundo!\"\n",
    "    return texto\n"
   ]
  },
  {
   "cell_type": "markdown",
   "metadata": {
    "slideshow": {
     "slide_type": "subslide"
    }
   },
   "source": [
    "Iniciamos la aplicación en el puerto 5010"
   ]
  },
  {
   "cell_type": "code",
   "execution_count": 6,
   "metadata": {
    "slideshow": {
     "slide_type": "fragment"
    }
   },
   "outputs": [
    {
     "name": "stdout",
     "output_type": "stream",
     "text": [
      " * Serving Flask app 'my_first_webapp'\n",
      " * Debug mode: off\n"
     ]
    },
    {
     "name": "stderr",
     "output_type": "stream",
     "text": [
      "\u001b[31m\u001b[1mWARNING: This is a development server. Do not use it in a production deployment. Use a production WSGI server instead.\u001b[0m\n",
      " * Running on all addresses (0.0.0.0)\n",
      " * Running on http://127.0.0.1:5010\n",
      " * Running on http://10.1.1.140:5010\n",
      "\u001b[33mPress CTRL+C to quit\u001b[0m\n"
     ]
    }
   ],
   "source": [
    "app.run(host='0.0.0.0', port = 5010)\n"
   ]
  },
  {
   "cell_type": "markdown",
   "metadata": {
    "slideshow": {
     "slide_type": "fragment"
    }
   },
   "source": [
    "Abrimos en un browser esta url (GET)\n",
    "\n",
    "http://localhost:5010/hola"
   ]
  },
  {
   "cell_type": "markdown",
   "metadata": {
    "slideshow": {
     "slide_type": "slide"
    }
   },
   "source": [
    "Ahora bien, ¿podríamos conectar una web con los resultados de un modelo? ¡Claro que sí!\n",
    "\n",
    "De eso hablamos cuando hablamos de hacer un **deploy** de un modelo: poder acceder a los resultados de un modelo ya ajustado, típicamente haciendo predict sobre un input ingresado.\n",
    "\n",
    "\n",
    "Veamos un ejemplo práctico:\n",
    "\n",
    "1. Usando el dataset `advertising.csv` entrenemos una regresión lineal simple para predecir el valor de la columna `Sales` a partir del valor de `TV`\n",
    "\n",
    "2. Guardemos el modelo entrenado usan pickle o shelve\n",
    "\n",
    "3. Creemos una aplicación web que reciba en un request los valores de TV y devuelva la predicción del valor de Sales que hace el modelo\n",
    "\n",
    "4. Escribamos código python que consulte el valor predicho por el modelo para un valor de TV de 250 usando un web get\n",
    "\n",
    "Aclaración: cuando hablamos de **endpoints**, hacemos referencia a la ubicación virtual (URL) de una API adonde se reciben requests de un recurso (en nuestro caso, un modelo) específico en un servidor."
   ]
  },
  {
   "cell_type": "code",
   "execution_count": 16,
   "metadata": {
    "slideshow": {
     "slide_type": "subslide"
    }
   },
   "outputs": [],
   "source": [
    "import pandas as pd\n",
    "import shelve\n",
    "import pickle\n",
    "import seaborn as sns\n",
    "import requests\n",
    "from flask import  Flask\n",
    "from sklearn.model_selection import train_test_split\n",
    "from sklearn import linear_model\n",
    "from sklearn.metrics import mean_squared_error, r2_score"
   ]
  },
  {
   "cell_type": "code",
   "execution_count": 17,
   "metadata": {
    "slideshow": {
     "slide_type": "fragment"
    }
   },
   "outputs": [
    {
     "data": {
      "text/html": [
       "<div>\n",
       "<style scoped>\n",
       "    .dataframe tbody tr th:only-of-type {\n",
       "        vertical-align: middle;\n",
       "    }\n",
       "\n",
       "    .dataframe tbody tr th {\n",
       "        vertical-align: top;\n",
       "    }\n",
       "\n",
       "    .dataframe thead th {\n",
       "        text-align: right;\n",
       "    }\n",
       "</style>\n",
       "<table border=\"1\" class=\"dataframe\">\n",
       "  <thead>\n",
       "    <tr style=\"text-align: right;\">\n",
       "      <th></th>\n",
       "      <th>TV</th>\n",
       "      <th>Radio</th>\n",
       "      <th>Newspaper</th>\n",
       "      <th>Sales</th>\n",
       "    </tr>\n",
       "  </thead>\n",
       "  <tbody>\n",
       "    <tr>\n",
       "      <th>0</th>\n",
       "      <td>230.1</td>\n",
       "      <td>37.8</td>\n",
       "      <td>69.2</td>\n",
       "      <td>22.1</td>\n",
       "    </tr>\n",
       "    <tr>\n",
       "      <th>1</th>\n",
       "      <td>44.5</td>\n",
       "      <td>39.3</td>\n",
       "      <td>45.1</td>\n",
       "      <td>10.4</td>\n",
       "    </tr>\n",
       "    <tr>\n",
       "      <th>2</th>\n",
       "      <td>17.2</td>\n",
       "      <td>45.9</td>\n",
       "      <td>69.3</td>\n",
       "      <td>12.0</td>\n",
       "    </tr>\n",
       "    <tr>\n",
       "      <th>3</th>\n",
       "      <td>151.5</td>\n",
       "      <td>41.3</td>\n",
       "      <td>58.5</td>\n",
       "      <td>16.5</td>\n",
       "    </tr>\n",
       "    <tr>\n",
       "      <th>4</th>\n",
       "      <td>180.8</td>\n",
       "      <td>10.8</td>\n",
       "      <td>58.4</td>\n",
       "      <td>17.9</td>\n",
       "    </tr>\n",
       "    <tr>\n",
       "      <th>...</th>\n",
       "      <td>...</td>\n",
       "      <td>...</td>\n",
       "      <td>...</td>\n",
       "      <td>...</td>\n",
       "    </tr>\n",
       "    <tr>\n",
       "      <th>195</th>\n",
       "      <td>38.2</td>\n",
       "      <td>3.7</td>\n",
       "      <td>13.8</td>\n",
       "      <td>7.6</td>\n",
       "    </tr>\n",
       "    <tr>\n",
       "      <th>196</th>\n",
       "      <td>94.2</td>\n",
       "      <td>4.9</td>\n",
       "      <td>8.1</td>\n",
       "      <td>14.0</td>\n",
       "    </tr>\n",
       "    <tr>\n",
       "      <th>197</th>\n",
       "      <td>177.0</td>\n",
       "      <td>9.3</td>\n",
       "      <td>6.4</td>\n",
       "      <td>14.8</td>\n",
       "    </tr>\n",
       "    <tr>\n",
       "      <th>198</th>\n",
       "      <td>283.6</td>\n",
       "      <td>42.0</td>\n",
       "      <td>66.2</td>\n",
       "      <td>25.5</td>\n",
       "    </tr>\n",
       "    <tr>\n",
       "      <th>199</th>\n",
       "      <td>232.1</td>\n",
       "      <td>8.6</td>\n",
       "      <td>8.7</td>\n",
       "      <td>18.4</td>\n",
       "    </tr>\n",
       "  </tbody>\n",
       "</table>\n",
       "<p>200 rows × 4 columns</p>\n",
       "</div>"
      ],
      "text/plain": [
       "        TV  Radio  Newspaper  Sales\n",
       "0    230.1   37.8       69.2   22.1\n",
       "1     44.5   39.3       45.1   10.4\n",
       "2     17.2   45.9       69.3   12.0\n",
       "3    151.5   41.3       58.5   16.5\n",
       "4    180.8   10.8       58.4   17.9\n",
       "..     ...    ...        ...    ...\n",
       "195   38.2    3.7       13.8    7.6\n",
       "196   94.2    4.9        8.1   14.0\n",
       "197  177.0    9.3        6.4   14.8\n",
       "198  283.6   42.0       66.2   25.5\n",
       "199  232.1    8.6        8.7   18.4\n",
       "\n",
       "[200 rows x 4 columns]"
      ]
     },
     "execution_count": 17,
     "metadata": {},
     "output_type": "execute_result"
    }
   ],
   "source": [
    "data = pd.read_csv(\"./Data/advertising.csv\")\n",
    "data"
   ]
  },
  {
   "cell_type": "code",
   "execution_count": 18,
   "metadata": {
    "scrolled": false,
    "slideshow": {
     "slide_type": "subslide"
    }
   },
   "outputs": [
    {
     "data": {
      "image/png": "[encoded data removed]",
      "text/plain": [
       "<Figure size 640x480 with 1 Axes>"
      ]
     },
     "metadata": {},
     "output_type": "display_data"
    }
   ],
   "source": [
    "sns.scatterplot(data = data, x = \"TV\", y = \"Sales\");"
   ]
  },
  {
   "cell_type": "code",
   "execution_count": 19,
   "metadata": {
    "slideshow": {
     "slide_type": "slide"
    }
   },
   "outputs": [],
   "source": [
    "#Fiteamos un modelo únicamente a partir de un dato (gasto de publicidad en TV)\n",
    "y = data.Sales\n",
    "X = pd.DataFrame(data.TV)\n",
    "X_train, X_test, y_train, y_test = train_test_split(X, y, test_size=0.33,random_state = 127)"
   ]
  },
  {
   "cell_type": "code",
   "execution_count": 20,
   "metadata": {
    "slideshow": {
     "slide_type": "fragment"
    }
   },
   "outputs": [
    {
     "name": "stdout",
     "output_type": "stream",
     "text": [
      "R2_train =   0.8299212333243602\n",
      "R2_test =   0.7756234104600289\n",
      "MSE_train =   4.698397418772552\n",
      "MSE_test =   6.302810513865884\n",
      "Intercepto=   6.822179357132384\n",
      "RM =    [0.05585869]\n"
     ]
    }
   ],
   "source": [
    "lm = linear_model.LinearRegression()\n",
    "\n",
    "model = lm.fit(X_train, y_train)\n",
    "\n",
    "predictions_train = model.predict(X_train)\n",
    "\n",
    "predictions_test = model.predict(X_test)\n",
    "\n",
    "print ('R2_train =', ' ', r2_score(y_train, predictions_train))\n",
    "print ('R2_test =', ' ', r2_score(y_test, predictions_test))\n",
    "\n",
    "print ('MSE_train =', ' ', mean_squared_error(y_train, predictions_train))\n",
    "print ('MSE_test =', ' ', mean_squared_error(y_test, predictions_test))\n",
    "\n",
    "\n",
    "# Imprimimos el intercepto y los coeficientes como atributos del objeto entrenado.\n",
    "print ('Intercepto=', ' ', model.intercept_)\n",
    "print ('RM = ', ' ', model.coef_)\n"
   ]
  },
  {
   "cell_type": "markdown",
   "metadata": {
    "slideshow": {
     "slide_type": "subslide"
    }
   },
   "source": [
    "Guardamos el modelo entrenado usan shelve"
   ]
  },
  {
   "cell_type": "code",
   "execution_count": null,
   "metadata": {
    "slideshow": {
     "slide_type": "fragment"
    }
   },
   "outputs": [],
   "source": [
    "# s = shelve.open(\"./Data/handson_model.db\")\n",
    "# s[\"model\"] = model\n",
    "# s.close()"
   ]
  },
  {
   "cell_type": "code",
   "execution_count": 22,
   "metadata": {},
   "outputs": [],
   "source": [
    "with open('./Data/modelo_prueba.pkl', 'wb') as file: \n",
    "    pickle.dump(model, file) "
   ]
  },
  {
   "cell_type": "markdown",
   "metadata": {
    "slideshow": {
     "slide_type": "subslide"
    }
   },
   "source": [
    "Creamos una aplicación web que recibe en un request los valores de TV y devuelve la predicción del valor de Sales que hace el modelo"
   ]
  },
  {
   "cell_type": "code",
   "execution_count": 23,
   "metadata": {
    "slideshow": {
     "slide_type": "fragment"
    }
   },
   "outputs": [],
   "source": [
    "app = Flask('Modelo Prueba')"
   ]
  },
  {
   "cell_type": "code",
   "execution_count": 24,
   "metadata": {
    "slideshow": {
     "slide_type": "fragment"
    }
   },
   "outputs": [],
   "source": [
    "@app.route(\"/\", methods=['GET'])\n",
    "def hello():\n",
    "    alive = \"La app está viva\"\n",
    "    return alive\n",
    "\n",
    "@app.route(\"/predict/<tv>\", methods=['GET'])\n",
    "def predictSales(tv):\n",
    "#     s = shelve.open(\"../Data/handson_model.db\")\n",
    "#     model = s[\"model\"]\n",
    "    \n",
    "    with open('./data/modelo_prueba.pkl', 'rb') as file: \n",
    "        model = pickle.load(file) \n",
    "    \n",
    "    tv_df = pd.DataFrame(data = [tv], columns = [\"TV\"])\n",
    "    prediction = model.predict(tv_df)\n",
    "    # The return type must be a string, dict, tuple, Response instance, or WSGI callable\n",
    "    result = {\"Sales\": prediction[0]}\n",
    "    return result\n"
   ]
  },
  {
   "cell_type": "code",
   "execution_count": 25,
   "metadata": {
    "slideshow": {
     "slide_type": "subslide"
    }
   },
   "outputs": [
    {
     "name": "stdout",
     "output_type": "stream",
     "text": [
      " * Serving Flask app 'Modelo Prueba'\n",
      " * Debug mode: off\n"
     ]
    },
    {
     "name": "stderr",
     "output_type": "stream",
     "text": [
      "WARNING: This is a development server. Do not use it in a production deployment. Use a production WSGI server instead.\n",
      " * Running on all addresses (0.0.0.0)\n",
      " * Running on http://127.0.0.1:5017\n",
      " * Running on http://192.168.0.28:5017\n",
      "Press CTRL+C to quit\n",
      "127.0.0.1 - - [15/Nov/2023 11:05:46] \"GET / HTTP/1.1\" 200 -\n",
      "127.0.0.1 - - [15/Nov/2023 11:05:46] \"GET /favicon.ico HTTP/1.1\" 404 -\n"
     ]
    }
   ],
   "source": [
    "app.run(host='0.0.0.0', port = 5017)"
   ]
  },
  {
   "cell_type": "markdown",
   "metadata": {
    "slideshow": {
     "slide_type": "fragment"
    }
   },
   "source": [
    "http://localhost:5017/\n",
    "\n",
    "http://localhost:5017/predict/100"
   ]
  },
  {
   "cell_type": "markdown",
   "metadata": {
    "slideshow": {
     "slide_type": "fragment"
    }
   },
   "source": [
    "La ejecución de la celda anterior (server) no termina excepto que la detengamos explícitamente, y sólo mientras está corriendo nuestra aplicación web puede recibir y responder requests.\n",
    "\n",
    "Por lo tanto, la ejecución de las celdas que siguen (client) debe hacerse desde otra notebook.\n",
    "\n",
    "Escribimos código python que haga in request al server para obtener el valor predicho por el modelo para un valor de TV de 250"
   ]
  },
  {
   "cell_type": "code",
   "execution_count": 26,
   "metadata": {
    "collapsed": true,
    "slideshow": {
     "slide_type": "subslide"
    }
   },
   "outputs": [
    {
     "name": "stdout",
     "output_type": "stream",
     "text": [
      "http://localhost:5017/predict/500\n"
     ]
    },
    {
     "ename": "ConnectionError",
     "evalue": "HTTPConnectionPool(host='localhost', port=5017): Max retries exceeded with url: /predict/500 (Caused by NewConnectionError('<urllib3.connection.HTTPConnection object at 0x00000230E8246340>: Failed to establish a new connection: [WinError 10061] No se puede establecer una conexión ya que el equipo de destino denegó expresamente dicha conexión'))",
     "output_type": "error",
     "traceback": [
      "\u001b[1;31m---------------------------------------------------------------------------\u001b[0m",
      "\u001b[1;31mConnectionRefusedError\u001b[0m                    Traceback (most recent call last)",
      "File \u001b[1;32m~\\AppData\\Local\\miniconda3\\envs\\itba_apa_env\\lib\\site-packages\\urllib3\\connection.py:203\u001b[0m, in \u001b[0;36mHTTPConnection._new_conn\u001b[1;34m(self)\u001b[0m\n\u001b[0;32m    202\u001b[0m \u001b[38;5;28;01mtry\u001b[39;00m:\n\u001b[1;32m--> 203\u001b[0m     sock \u001b[38;5;241m=\u001b[39m \u001b[43mconnection\u001b[49m\u001b[38;5;241;43m.\u001b[39;49m\u001b[43mcreate_connection\u001b[49m\u001b[43m(\u001b[49m\n\u001b[0;32m    204\u001b[0m \u001b[43m        \u001b[49m\u001b[43m(\u001b[49m\u001b[38;5;28;43mself\u001b[39;49m\u001b[38;5;241;43m.\u001b[39;49m\u001b[43m_dns_host\u001b[49m\u001b[43m,\u001b[49m\u001b[43m \u001b[49m\u001b[38;5;28;43mself\u001b[39;49m\u001b[38;5;241;43m.\u001b[39;49m\u001b[43mport\u001b[49m\u001b[43m)\u001b[49m\u001b[43m,\u001b[49m\n\u001b[0;32m    205\u001b[0m \u001b[43m        \u001b[49m\u001b[38;5;28;43mself\u001b[39;49m\u001b[38;5;241;43m.\u001b[39;49m\u001b[43mtimeout\u001b[49m\u001b[43m,\u001b[49m\n\u001b[0;32m    206\u001b[0m \u001b[43m        \u001b[49m\u001b[43msource_address\u001b[49m\u001b[38;5;241;43m=\u001b[39;49m\u001b[38;5;28;43mself\u001b[39;49m\u001b[38;5;241;43m.\u001b[39;49m\u001b[43msource_address\u001b[49m\u001b[43m,\u001b[49m\n\u001b[0;32m    207\u001b[0m \u001b[43m        \u001b[49m\u001b[43msocket_options\u001b[49m\u001b[38;5;241;43m=\u001b[39;49m\u001b[38;5;28;43mself\u001b[39;49m\u001b[38;5;241;43m.\u001b[39;49m\u001b[43msocket_options\u001b[49m\u001b[43m,\u001b[49m\n\u001b[0;32m    208\u001b[0m \u001b[43m    \u001b[49m\u001b[43m)\u001b[49m\n\u001b[0;32m    209\u001b[0m \u001b[38;5;28;01mexcept\u001b[39;00m socket\u001b[38;5;241m.\u001b[39mgaierror \u001b[38;5;28;01mas\u001b[39;00m e:\n",
      "File \u001b[1;32m~\\AppData\\Local\\miniconda3\\envs\\itba_apa_env\\lib\\site-packages\\urllib3\\util\\connection.py:85\u001b[0m, in \u001b[0;36mcreate_connection\u001b[1;34m(address, timeout, source_address, socket_options)\u001b[0m\n\u001b[0;32m     84\u001b[0m \u001b[38;5;28;01mtry\u001b[39;00m:\n\u001b[1;32m---> 85\u001b[0m     \u001b[38;5;28;01mraise\u001b[39;00m err\n\u001b[0;32m     86\u001b[0m \u001b[38;5;28;01mfinally\u001b[39;00m:\n\u001b[0;32m     87\u001b[0m     \u001b[38;5;66;03m# Break explicitly a reference cycle\u001b[39;00m\n",
      "File \u001b[1;32m~\\AppData\\Local\\miniconda3\\envs\\itba_apa_env\\lib\\site-packages\\urllib3\\util\\connection.py:73\u001b[0m, in \u001b[0;36mcreate_connection\u001b[1;34m(address, timeout, source_address, socket_options)\u001b[0m\n\u001b[0;32m     72\u001b[0m     sock\u001b[38;5;241m.\u001b[39mbind(source_address)\n\u001b[1;32m---> 73\u001b[0m \u001b[43msock\u001b[49m\u001b[38;5;241;43m.\u001b[39;49m\u001b[43mconnect\u001b[49m\u001b[43m(\u001b[49m\u001b[43msa\u001b[49m\u001b[43m)\u001b[49m\n\u001b[0;32m     74\u001b[0m \u001b[38;5;66;03m# Break explicitly a reference cycle\u001b[39;00m\n",
      "\u001b[1;31mConnectionRefusedError\u001b[0m: [WinError 10061] No se puede establecer una conexión ya que el equipo de destino denegó expresamente dicha conexión",
      "\nThe above exception was the direct cause of the following exception:\n",
      "\u001b[1;31mNewConnectionError\u001b[0m                        Traceback (most recent call last)",
      "File \u001b[1;32m~\\AppData\\Local\\miniconda3\\envs\\itba_apa_env\\lib\\site-packages\\urllib3\\connectionpool.py:790\u001b[0m, in \u001b[0;36mHTTPConnectionPool.urlopen\u001b[1;34m(self, method, url, body, headers, retries, redirect, assert_same_host, timeout, pool_timeout, release_conn, chunked, body_pos, preload_content, decode_content, **response_kw)\u001b[0m\n\u001b[0;32m    789\u001b[0m \u001b[38;5;66;03m# Make the request on the HTTPConnection object\u001b[39;00m\n\u001b[1;32m--> 790\u001b[0m response \u001b[38;5;241m=\u001b[39m \u001b[38;5;28;43mself\u001b[39;49m\u001b[38;5;241;43m.\u001b[39;49m\u001b[43m_make_request\u001b[49m\u001b[43m(\u001b[49m\n\u001b[0;32m    791\u001b[0m \u001b[43m    \u001b[49m\u001b[43mconn\u001b[49m\u001b[43m,\u001b[49m\n\u001b[0;32m    792\u001b[0m \u001b[43m    \u001b[49m\u001b[43mmethod\u001b[49m\u001b[43m,\u001b[49m\n\u001b[0;32m    793\u001b[0m \u001b[43m    \u001b[49m\u001b[43murl\u001b[49m\u001b[43m,\u001b[49m\n\u001b[0;32m    794\u001b[0m \u001b[43m    \u001b[49m\u001b[43mtimeout\u001b[49m\u001b[38;5;241;43m=\u001b[39;49m\u001b[43mtimeout_obj\u001b[49m\u001b[43m,\u001b[49m\n\u001b[0;32m    795\u001b[0m \u001b[43m    \u001b[49m\u001b[43mbody\u001b[49m\u001b[38;5;241;43m=\u001b[39;49m\u001b[43mbody\u001b[49m\u001b[43m,\u001b[49m\n\u001b[0;32m    796\u001b[0m \u001b[43m    \u001b[49m\u001b[43mheaders\u001b[49m\u001b[38;5;241;43m=\u001b[39;49m\u001b[43mheaders\u001b[49m\u001b[43m,\u001b[49m\n\u001b[0;32m    797\u001b[0m \u001b[43m    \u001b[49m\u001b[43mchunked\u001b[49m\u001b[38;5;241;43m=\u001b[39;49m\u001b[43mchunked\u001b[49m\u001b[43m,\u001b[49m\n\u001b[0;32m    798\u001b[0m \u001b[43m    \u001b[49m\u001b[43mretries\u001b[49m\u001b[38;5;241;43m=\u001b[39;49m\u001b[43mretries\u001b[49m\u001b[43m,\u001b[49m\n\u001b[0;32m    799\u001b[0m \u001b[43m    \u001b[49m\u001b[43mresponse_conn\u001b[49m\u001b[38;5;241;43m=\u001b[39;49m\u001b[43mresponse_conn\u001b[49m\u001b[43m,\u001b[49m\n\u001b[0;32m    800\u001b[0m \u001b[43m    \u001b[49m\u001b[43mpreload_content\u001b[49m\u001b[38;5;241;43m=\u001b[39;49m\u001b[43mpreload_content\u001b[49m\u001b[43m,\u001b[49m\n\u001b[0;32m    801\u001b[0m \u001b[43m    \u001b[49m\u001b[43mdecode_content\u001b[49m\u001b[38;5;241;43m=\u001b[39;49m\u001b[43mdecode_content\u001b[49m\u001b[43m,\u001b[49m\n\u001b[0;32m    802\u001b[0m \u001b[43m    \u001b[49m\u001b[38;5;241;43m*\u001b[39;49m\u001b[38;5;241;43m*\u001b[39;49m\u001b[43mresponse_kw\u001b[49m\u001b[43m,\u001b[49m\n\u001b[0;32m    803\u001b[0m \u001b[43m\u001b[49m\u001b[43m)\u001b[49m\n\u001b[0;32m    805\u001b[0m \u001b[38;5;66;03m# Everything went great!\u001b[39;00m\n",
      "File \u001b[1;32m~\\AppData\\Local\\miniconda3\\envs\\itba_apa_env\\lib\\site-packages\\urllib3\\connectionpool.py:496\u001b[0m, in \u001b[0;36mHTTPConnectionPool._make_request\u001b[1;34m(self, conn, method, url, body, headers, retries, timeout, chunked, response_conn, preload_content, decode_content, enforce_content_length)\u001b[0m\n\u001b[0;32m    495\u001b[0m \u001b[38;5;28;01mtry\u001b[39;00m:\n\u001b[1;32m--> 496\u001b[0m     \u001b[43mconn\u001b[49m\u001b[38;5;241;43m.\u001b[39;49m\u001b[43mrequest\u001b[49m\u001b[43m(\u001b[49m\n\u001b[0;32m    497\u001b[0m \u001b[43m        \u001b[49m\u001b[43mmethod\u001b[49m\u001b[43m,\u001b[49m\n\u001b[0;32m    498\u001b[0m \u001b[43m        \u001b[49m\u001b[43murl\u001b[49m\u001b[43m,\u001b[49m\n\u001b[0;32m    499\u001b[0m \u001b[43m        \u001b[49m\u001b[43mbody\u001b[49m\u001b[38;5;241;43m=\u001b[39;49m\u001b[43mbody\u001b[49m\u001b[43m,\u001b[49m\n\u001b[0;32m    500\u001b[0m \u001b[43m        \u001b[49m\u001b[43mheaders\u001b[49m\u001b[38;5;241;43m=\u001b[39;49m\u001b[43mheaders\u001b[49m\u001b[43m,\u001b[49m\n\u001b[0;32m    501\u001b[0m \u001b[43m        \u001b[49m\u001b[43mchunked\u001b[49m\u001b[38;5;241;43m=\u001b[39;49m\u001b[43mchunked\u001b[49m\u001b[43m,\u001b[49m\n\u001b[0;32m    502\u001b[0m \u001b[43m        \u001b[49m\u001b[43mpreload_content\u001b[49m\u001b[38;5;241;43m=\u001b[39;49m\u001b[43mpreload_content\u001b[49m\u001b[43m,\u001b[49m\n\u001b[0;32m    503\u001b[0m \u001b[43m        \u001b[49m\u001b[43mdecode_content\u001b[49m\u001b[38;5;241;43m=\u001b[39;49m\u001b[43mdecode_content\u001b[49m\u001b[43m,\u001b[49m\n\u001b[0;32m    504\u001b[0m \u001b[43m        \u001b[49m\u001b[43menforce_content_length\u001b[49m\u001b[38;5;241;43m=\u001b[39;49m\u001b[43menforce_content_length\u001b[49m\u001b[43m,\u001b[49m\n\u001b[0;32m    505\u001b[0m \u001b[43m    \u001b[49m\u001b[43m)\u001b[49m\n\u001b[0;32m    507\u001b[0m \u001b[38;5;66;03m# We are swallowing BrokenPipeError (errno.EPIPE) since the server is\u001b[39;00m\n\u001b[0;32m    508\u001b[0m \u001b[38;5;66;03m# legitimately able to close the connection after sending a valid response.\u001b[39;00m\n\u001b[0;32m    509\u001b[0m \u001b[38;5;66;03m# With this behaviour, the received response is still readable.\u001b[39;00m\n",
      "File \u001b[1;32m~\\AppData\\Local\\miniconda3\\envs\\itba_apa_env\\lib\\site-packages\\urllib3\\connection.py:395\u001b[0m, in \u001b[0;36mHTTPConnection.request\u001b[1;34m(self, method, url, body, headers, chunked, preload_content, decode_content, enforce_content_length)\u001b[0m\n\u001b[0;32m    394\u001b[0m     \u001b[38;5;28mself\u001b[39m\u001b[38;5;241m.\u001b[39mputheader(header, value)\n\u001b[1;32m--> 395\u001b[0m \u001b[38;5;28;43mself\u001b[39;49m\u001b[38;5;241;43m.\u001b[39;49m\u001b[43mendheaders\u001b[49m\u001b[43m(\u001b[49m\u001b[43m)\u001b[49m\n\u001b[0;32m    397\u001b[0m \u001b[38;5;66;03m# If we're given a body we start sending that in chunks.\u001b[39;00m\n",
      "File \u001b[1;32m~\\AppData\\Local\\miniconda3\\envs\\itba_apa_env\\lib\\http\\client.py:1251\u001b[0m, in \u001b[0;36mHTTPConnection.endheaders\u001b[1;34m(self, message_body, encode_chunked)\u001b[0m\n\u001b[0;32m   1250\u001b[0m     \u001b[38;5;28;01mraise\u001b[39;00m CannotSendHeader()\n\u001b[1;32m-> 1251\u001b[0m \u001b[38;5;28;43mself\u001b[39;49m\u001b[38;5;241;43m.\u001b[39;49m\u001b[43m_send_output\u001b[49m\u001b[43m(\u001b[49m\u001b[43mmessage_body\u001b[49m\u001b[43m,\u001b[49m\u001b[43m \u001b[49m\u001b[43mencode_chunked\u001b[49m\u001b[38;5;241;43m=\u001b[39;49m\u001b[43mencode_chunked\u001b[49m\u001b[43m)\u001b[49m\n",
      "File \u001b[1;32m~\\AppData\\Local\\miniconda3\\envs\\itba_apa_env\\lib\\http\\client.py:1011\u001b[0m, in \u001b[0;36mHTTPConnection._send_output\u001b[1;34m(self, message_body, encode_chunked)\u001b[0m\n\u001b[0;32m   1010\u001b[0m \u001b[38;5;28;01mdel\u001b[39;00m \u001b[38;5;28mself\u001b[39m\u001b[38;5;241m.\u001b[39m_buffer[:]\n\u001b[1;32m-> 1011\u001b[0m \u001b[38;5;28;43mself\u001b[39;49m\u001b[38;5;241;43m.\u001b[39;49m\u001b[43msend\u001b[49m\u001b[43m(\u001b[49m\u001b[43mmsg\u001b[49m\u001b[43m)\u001b[49m\n\u001b[0;32m   1013\u001b[0m \u001b[38;5;28;01mif\u001b[39;00m message_body \u001b[38;5;129;01mis\u001b[39;00m \u001b[38;5;129;01mnot\u001b[39;00m \u001b[38;5;28;01mNone\u001b[39;00m:\n\u001b[0;32m   1014\u001b[0m \n\u001b[0;32m   1015\u001b[0m     \u001b[38;5;66;03m# create a consistent interface to message_body\u001b[39;00m\n",
      "File \u001b[1;32m~\\AppData\\Local\\miniconda3\\envs\\itba_apa_env\\lib\\http\\client.py:951\u001b[0m, in \u001b[0;36mHTTPConnection.send\u001b[1;34m(self, data)\u001b[0m\n\u001b[0;32m    950\u001b[0m \u001b[38;5;28;01mif\u001b[39;00m \u001b[38;5;28mself\u001b[39m\u001b[38;5;241m.\u001b[39mauto_open:\n\u001b[1;32m--> 951\u001b[0m     \u001b[38;5;28;43mself\u001b[39;49m\u001b[38;5;241;43m.\u001b[39;49m\u001b[43mconnect\u001b[49m\u001b[43m(\u001b[49m\u001b[43m)\u001b[49m\n\u001b[0;32m    952\u001b[0m \u001b[38;5;28;01melse\u001b[39;00m:\n",
      "File \u001b[1;32m~\\AppData\\Local\\miniconda3\\envs\\itba_apa_env\\lib\\site-packages\\urllib3\\connection.py:243\u001b[0m, in \u001b[0;36mHTTPConnection.connect\u001b[1;34m(self)\u001b[0m\n\u001b[0;32m    242\u001b[0m \u001b[38;5;28;01mdef\u001b[39;00m \u001b[38;5;21mconnect\u001b[39m(\u001b[38;5;28mself\u001b[39m) \u001b[38;5;241m-\u001b[39m\u001b[38;5;241m>\u001b[39m \u001b[38;5;28;01mNone\u001b[39;00m:\n\u001b[1;32m--> 243\u001b[0m     \u001b[38;5;28mself\u001b[39m\u001b[38;5;241m.\u001b[39msock \u001b[38;5;241m=\u001b[39m \u001b[38;5;28;43mself\u001b[39;49m\u001b[38;5;241;43m.\u001b[39;49m\u001b[43m_new_conn\u001b[49m\u001b[43m(\u001b[49m\u001b[43m)\u001b[49m\n\u001b[0;32m    244\u001b[0m     \u001b[38;5;28;01mif\u001b[39;00m \u001b[38;5;28mself\u001b[39m\u001b[38;5;241m.\u001b[39m_tunnel_host:\n\u001b[0;32m    245\u001b[0m         \u001b[38;5;66;03m# If we're tunneling it means we're connected to our proxy.\u001b[39;00m\n",
      "File \u001b[1;32m~\\AppData\\Local\\miniconda3\\envs\\itba_apa_env\\lib\\site-packages\\urllib3\\connection.py:218\u001b[0m, in \u001b[0;36mHTTPConnection._new_conn\u001b[1;34m(self)\u001b[0m\n\u001b[0;32m    217\u001b[0m \u001b[38;5;28;01mexcept\u001b[39;00m \u001b[38;5;167;01mOSError\u001b[39;00m \u001b[38;5;28;01mas\u001b[39;00m e:\n\u001b[1;32m--> 218\u001b[0m     \u001b[38;5;28;01mraise\u001b[39;00m NewConnectionError(\n\u001b[0;32m    219\u001b[0m         \u001b[38;5;28mself\u001b[39m, \u001b[38;5;124mf\u001b[39m\u001b[38;5;124m\"\u001b[39m\u001b[38;5;124mFailed to establish a new connection: \u001b[39m\u001b[38;5;132;01m{\u001b[39;00me\u001b[38;5;132;01m}\u001b[39;00m\u001b[38;5;124m\"\u001b[39m\n\u001b[0;32m    220\u001b[0m     ) \u001b[38;5;28;01mfrom\u001b[39;00m \u001b[38;5;21;01me\u001b[39;00m\n\u001b[0;32m    222\u001b[0m \u001b[38;5;66;03m# Audit hooks are only available in Python 3.8+\u001b[39;00m\n",
      "\u001b[1;31mNewConnectionError\u001b[0m: <urllib3.connection.HTTPConnection object at 0x00000230E8246340>: Failed to establish a new connection: [WinError 10061] No se puede establecer una conexión ya que el equipo de destino denegó expresamente dicha conexión",
      "\nThe above exception was the direct cause of the following exception:\n",
      "\u001b[1;31mMaxRetryError\u001b[0m                             Traceback (most recent call last)",
      "File \u001b[1;32m~\\AppData\\Local\\miniconda3\\envs\\itba_apa_env\\lib\\site-packages\\requests\\adapters.py:486\u001b[0m, in \u001b[0;36mHTTPAdapter.send\u001b[1;34m(self, request, stream, timeout, verify, cert, proxies)\u001b[0m\n\u001b[0;32m    485\u001b[0m \u001b[38;5;28;01mtry\u001b[39;00m:\n\u001b[1;32m--> 486\u001b[0m     resp \u001b[38;5;241m=\u001b[39m \u001b[43mconn\u001b[49m\u001b[38;5;241;43m.\u001b[39;49m\u001b[43murlopen\u001b[49m\u001b[43m(\u001b[49m\n\u001b[0;32m    487\u001b[0m \u001b[43m        \u001b[49m\u001b[43mmethod\u001b[49m\u001b[38;5;241;43m=\u001b[39;49m\u001b[43mrequest\u001b[49m\u001b[38;5;241;43m.\u001b[39;49m\u001b[43mmethod\u001b[49m\u001b[43m,\u001b[49m\n\u001b[0;32m    488\u001b[0m \u001b[43m        \u001b[49m\u001b[43murl\u001b[49m\u001b[38;5;241;43m=\u001b[39;49m\u001b[43murl\u001b[49m\u001b[43m,\u001b[49m\n\u001b[0;32m    489\u001b[0m \u001b[43m        \u001b[49m\u001b[43mbody\u001b[49m\u001b[38;5;241;43m=\u001b[39;49m\u001b[43mrequest\u001b[49m\u001b[38;5;241;43m.\u001b[39;49m\u001b[43mbody\u001b[49m\u001b[43m,\u001b[49m\n\u001b[0;32m    490\u001b[0m \u001b[43m        \u001b[49m\u001b[43mheaders\u001b[49m\u001b[38;5;241;43m=\u001b[39;49m\u001b[43mrequest\u001b[49m\u001b[38;5;241;43m.\u001b[39;49m\u001b[43mheaders\u001b[49m\u001b[43m,\u001b[49m\n\u001b[0;32m    491\u001b[0m \u001b[43m        \u001b[49m\u001b[43mredirect\u001b[49m\u001b[38;5;241;43m=\u001b[39;49m\u001b[38;5;28;43;01mFalse\u001b[39;49;00m\u001b[43m,\u001b[49m\n\u001b[0;32m    492\u001b[0m \u001b[43m        \u001b[49m\u001b[43massert_same_host\u001b[49m\u001b[38;5;241;43m=\u001b[39;49m\u001b[38;5;28;43;01mFalse\u001b[39;49;00m\u001b[43m,\u001b[49m\n\u001b[0;32m    493\u001b[0m \u001b[43m        \u001b[49m\u001b[43mpreload_content\u001b[49m\u001b[38;5;241;43m=\u001b[39;49m\u001b[38;5;28;43;01mFalse\u001b[39;49;00m\u001b[43m,\u001b[49m\n\u001b[0;32m    494\u001b[0m \u001b[43m        \u001b[49m\u001b[43mdecode_content\u001b[49m\u001b[38;5;241;43m=\u001b[39;49m\u001b[38;5;28;43;01mFalse\u001b[39;49;00m\u001b[43m,\u001b[49m\n\u001b[0;32m    495\u001b[0m \u001b[43m        \u001b[49m\u001b[43mretries\u001b[49m\u001b[38;5;241;43m=\u001b[39;49m\u001b[38;5;28;43mself\u001b[39;49m\u001b[38;5;241;43m.\u001b[39;49m\u001b[43mmax_retries\u001b[49m\u001b[43m,\u001b[49m\n\u001b[0;32m    496\u001b[0m \u001b[43m        \u001b[49m\u001b[43mtimeout\u001b[49m\u001b[38;5;241;43m=\u001b[39;49m\u001b[43mtimeout\u001b[49m\u001b[43m,\u001b[49m\n\u001b[0;32m    497\u001b[0m \u001b[43m        \u001b[49m\u001b[43mchunked\u001b[49m\u001b[38;5;241;43m=\u001b[39;49m\u001b[43mchunked\u001b[49m\u001b[43m,\u001b[49m\n\u001b[0;32m    498\u001b[0m \u001b[43m    \u001b[49m\u001b[43m)\u001b[49m\n\u001b[0;32m    500\u001b[0m \u001b[38;5;28;01mexcept\u001b[39;00m (ProtocolError, \u001b[38;5;167;01mOSError\u001b[39;00m) \u001b[38;5;28;01mas\u001b[39;00m err:\n",
      "File \u001b[1;32m~\\AppData\\Local\\miniconda3\\envs\\itba_apa_env\\lib\\site-packages\\urllib3\\connectionpool.py:844\u001b[0m, in \u001b[0;36mHTTPConnectionPool.urlopen\u001b[1;34m(self, method, url, body, headers, retries, redirect, assert_same_host, timeout, pool_timeout, release_conn, chunked, body_pos, preload_content, decode_content, **response_kw)\u001b[0m\n\u001b[0;32m    842\u001b[0m     new_e \u001b[38;5;241m=\u001b[39m ProtocolError(\u001b[38;5;124m\"\u001b[39m\u001b[38;5;124mConnection aborted.\u001b[39m\u001b[38;5;124m\"\u001b[39m, new_e)\n\u001b[1;32m--> 844\u001b[0m retries \u001b[38;5;241m=\u001b[39m \u001b[43mretries\u001b[49m\u001b[38;5;241;43m.\u001b[39;49m\u001b[43mincrement\u001b[49m\u001b[43m(\u001b[49m\n\u001b[0;32m    845\u001b[0m \u001b[43m    \u001b[49m\u001b[43mmethod\u001b[49m\u001b[43m,\u001b[49m\u001b[43m \u001b[49m\u001b[43murl\u001b[49m\u001b[43m,\u001b[49m\u001b[43m \u001b[49m\u001b[43merror\u001b[49m\u001b[38;5;241;43m=\u001b[39;49m\u001b[43mnew_e\u001b[49m\u001b[43m,\u001b[49m\u001b[43m \u001b[49m\u001b[43m_pool\u001b[49m\u001b[38;5;241;43m=\u001b[39;49m\u001b[38;5;28;43mself\u001b[39;49m\u001b[43m,\u001b[49m\u001b[43m \u001b[49m\u001b[43m_stacktrace\u001b[49m\u001b[38;5;241;43m=\u001b[39;49m\u001b[43msys\u001b[49m\u001b[38;5;241;43m.\u001b[39;49m\u001b[43mexc_info\u001b[49m\u001b[43m(\u001b[49m\u001b[43m)\u001b[49m\u001b[43m[\u001b[49m\u001b[38;5;241;43m2\u001b[39;49m\u001b[43m]\u001b[49m\n\u001b[0;32m    846\u001b[0m \u001b[43m\u001b[49m\u001b[43m)\u001b[49m\n\u001b[0;32m    847\u001b[0m retries\u001b[38;5;241m.\u001b[39msleep()\n",
      "File \u001b[1;32m~\\AppData\\Local\\miniconda3\\envs\\itba_apa_env\\lib\\site-packages\\urllib3\\util\\retry.py:515\u001b[0m, in \u001b[0;36mRetry.increment\u001b[1;34m(self, method, url, response, error, _pool, _stacktrace)\u001b[0m\n\u001b[0;32m    514\u001b[0m     reason \u001b[38;5;241m=\u001b[39m error \u001b[38;5;129;01mor\u001b[39;00m ResponseError(cause)\n\u001b[1;32m--> 515\u001b[0m     \u001b[38;5;28;01mraise\u001b[39;00m MaxRetryError(_pool, url, reason) \u001b[38;5;28;01mfrom\u001b[39;00m \u001b[38;5;21;01mreason\u001b[39;00m  \u001b[38;5;66;03m# type: ignore[arg-type]\u001b[39;00m\n\u001b[0;32m    517\u001b[0m log\u001b[38;5;241m.\u001b[39mdebug(\u001b[38;5;124m\"\u001b[39m\u001b[38;5;124mIncremented Retry for (url=\u001b[39m\u001b[38;5;124m'\u001b[39m\u001b[38;5;132;01m%s\u001b[39;00m\u001b[38;5;124m'\u001b[39m\u001b[38;5;124m): \u001b[39m\u001b[38;5;132;01m%r\u001b[39;00m\u001b[38;5;124m\"\u001b[39m, url, new_retry)\n",
      "\u001b[1;31mMaxRetryError\u001b[0m: HTTPConnectionPool(host='localhost', port=5017): Max retries exceeded with url: /predict/500 (Caused by NewConnectionError('<urllib3.connection.HTTPConnection object at 0x00000230E8246340>: Failed to establish a new connection: [WinError 10061] No se puede establecer una conexión ya que el equipo de destino denegó expresamente dicha conexión'))",
      "\nDuring handling of the above exception, another exception occurred:\n",
      "\u001b[1;31mConnectionError\u001b[0m                           Traceback (most recent call last)",
      "Cell \u001b[1;32mIn[26], line 4\u001b[0m\n\u001b[0;32m      2\u001b[0m endpoint \u001b[38;5;241m=\u001b[39m \u001b[38;5;124m\"\u001b[39m\u001b[38;5;124mhttp://localhost:5017/predict/\u001b[39m\u001b[38;5;124m\"\u001b[39m \u001b[38;5;241m+\u001b[39m \u001b[38;5;28mstr\u001b[39m(tv_value)\n\u001b[0;32m      3\u001b[0m \u001b[38;5;28mprint\u001b[39m(endpoint)\n\u001b[1;32m----> 4\u001b[0m response \u001b[38;5;241m=\u001b[39m \u001b[43mrequests\u001b[49m\u001b[38;5;241;43m.\u001b[39;49m\u001b[43mget\u001b[49m\u001b[43m(\u001b[49m\u001b[43mendpoint\u001b[49m\u001b[43m)\u001b[49m\n",
      "File \u001b[1;32m~\\AppData\\Local\\miniconda3\\envs\\itba_apa_env\\lib\\site-packages\\requests\\api.py:73\u001b[0m, in \u001b[0;36mget\u001b[1;34m(url, params, **kwargs)\u001b[0m\n\u001b[0;32m     62\u001b[0m \u001b[38;5;28;01mdef\u001b[39;00m \u001b[38;5;21mget\u001b[39m(url, params\u001b[38;5;241m=\u001b[39m\u001b[38;5;28;01mNone\u001b[39;00m, \u001b[38;5;241m*\u001b[39m\u001b[38;5;241m*\u001b[39mkwargs):\n\u001b[0;32m     63\u001b[0m \u001b[38;5;250m    \u001b[39m\u001b[38;5;124mr\u001b[39m\u001b[38;5;124;03m\"\"\"Sends a GET request.\u001b[39;00m\n\u001b[0;32m     64\u001b[0m \n\u001b[0;32m     65\u001b[0m \u001b[38;5;124;03m    :param url: URL for the new :class:`Request` object.\u001b[39;00m\n\u001b[1;32m   (...)\u001b[0m\n\u001b[0;32m     70\u001b[0m \u001b[38;5;124;03m    :rtype: requests.Response\u001b[39;00m\n\u001b[0;32m     71\u001b[0m \u001b[38;5;124;03m    \"\"\"\u001b[39;00m\n\u001b[1;32m---> 73\u001b[0m     \u001b[38;5;28;01mreturn\u001b[39;00m \u001b[43mrequest\u001b[49m\u001b[43m(\u001b[49m\u001b[38;5;124;43m\"\u001b[39;49m\u001b[38;5;124;43mget\u001b[39;49m\u001b[38;5;124;43m\"\u001b[39;49m\u001b[43m,\u001b[49m\u001b[43m \u001b[49m\u001b[43murl\u001b[49m\u001b[43m,\u001b[49m\u001b[43m \u001b[49m\u001b[43mparams\u001b[49m\u001b[38;5;241;43m=\u001b[39;49m\u001b[43mparams\u001b[49m\u001b[43m,\u001b[49m\u001b[43m \u001b[49m\u001b[38;5;241;43m*\u001b[39;49m\u001b[38;5;241;43m*\u001b[39;49m\u001b[43mkwargs\u001b[49m\u001b[43m)\u001b[49m\n",
      "File \u001b[1;32m~\\AppData\\Local\\miniconda3\\envs\\itba_apa_env\\lib\\site-packages\\requests\\api.py:59\u001b[0m, in \u001b[0;36mrequest\u001b[1;34m(method, url, **kwargs)\u001b[0m\n\u001b[0;32m     55\u001b[0m \u001b[38;5;66;03m# By using the 'with' statement we are sure the session is closed, thus we\u001b[39;00m\n\u001b[0;32m     56\u001b[0m \u001b[38;5;66;03m# avoid leaving sockets open which can trigger a ResourceWarning in some\u001b[39;00m\n\u001b[0;32m     57\u001b[0m \u001b[38;5;66;03m# cases, and look like a memory leak in others.\u001b[39;00m\n\u001b[0;32m     58\u001b[0m \u001b[38;5;28;01mwith\u001b[39;00m sessions\u001b[38;5;241m.\u001b[39mSession() \u001b[38;5;28;01mas\u001b[39;00m session:\n\u001b[1;32m---> 59\u001b[0m     \u001b[38;5;28;01mreturn\u001b[39;00m \u001b[43msession\u001b[49m\u001b[38;5;241;43m.\u001b[39;49m\u001b[43mrequest\u001b[49m\u001b[43m(\u001b[49m\u001b[43mmethod\u001b[49m\u001b[38;5;241;43m=\u001b[39;49m\u001b[43mmethod\u001b[49m\u001b[43m,\u001b[49m\u001b[43m \u001b[49m\u001b[43murl\u001b[49m\u001b[38;5;241;43m=\u001b[39;49m\u001b[43murl\u001b[49m\u001b[43m,\u001b[49m\u001b[43m \u001b[49m\u001b[38;5;241;43m*\u001b[39;49m\u001b[38;5;241;43m*\u001b[39;49m\u001b[43mkwargs\u001b[49m\u001b[43m)\u001b[49m\n",
      "File \u001b[1;32m~\\AppData\\Local\\miniconda3\\envs\\itba_apa_env\\lib\\site-packages\\requests\\sessions.py:589\u001b[0m, in \u001b[0;36mSession.request\u001b[1;34m(self, method, url, params, data, headers, cookies, files, auth, timeout, allow_redirects, proxies, hooks, stream, verify, cert, json)\u001b[0m\n\u001b[0;32m    584\u001b[0m send_kwargs \u001b[38;5;241m=\u001b[39m {\n\u001b[0;32m    585\u001b[0m     \u001b[38;5;124m\"\u001b[39m\u001b[38;5;124mtimeout\u001b[39m\u001b[38;5;124m\"\u001b[39m: timeout,\n\u001b[0;32m    586\u001b[0m     \u001b[38;5;124m\"\u001b[39m\u001b[38;5;124mallow_redirects\u001b[39m\u001b[38;5;124m\"\u001b[39m: allow_redirects,\n\u001b[0;32m    587\u001b[0m }\n\u001b[0;32m    588\u001b[0m send_kwargs\u001b[38;5;241m.\u001b[39mupdate(settings)\n\u001b[1;32m--> 589\u001b[0m resp \u001b[38;5;241m=\u001b[39m \u001b[38;5;28;43mself\u001b[39;49m\u001b[38;5;241;43m.\u001b[39;49m\u001b[43msend\u001b[49m\u001b[43m(\u001b[49m\u001b[43mprep\u001b[49m\u001b[43m,\u001b[49m\u001b[43m \u001b[49m\u001b[38;5;241;43m*\u001b[39;49m\u001b[38;5;241;43m*\u001b[39;49m\u001b[43msend_kwargs\u001b[49m\u001b[43m)\u001b[49m\n\u001b[0;32m    591\u001b[0m \u001b[38;5;28;01mreturn\u001b[39;00m resp\n",
      "File \u001b[1;32m~\\AppData\\Local\\miniconda3\\envs\\itba_apa_env\\lib\\site-packages\\requests\\sessions.py:703\u001b[0m, in \u001b[0;36mSession.send\u001b[1;34m(self, request, **kwargs)\u001b[0m\n\u001b[0;32m    700\u001b[0m start \u001b[38;5;241m=\u001b[39m preferred_clock()\n\u001b[0;32m    702\u001b[0m \u001b[38;5;66;03m# Send the request\u001b[39;00m\n\u001b[1;32m--> 703\u001b[0m r \u001b[38;5;241m=\u001b[39m \u001b[43madapter\u001b[49m\u001b[38;5;241;43m.\u001b[39;49m\u001b[43msend\u001b[49m\u001b[43m(\u001b[49m\u001b[43mrequest\u001b[49m\u001b[43m,\u001b[49m\u001b[43m \u001b[49m\u001b[38;5;241;43m*\u001b[39;49m\u001b[38;5;241;43m*\u001b[39;49m\u001b[43mkwargs\u001b[49m\u001b[43m)\u001b[49m\n\u001b[0;32m    705\u001b[0m \u001b[38;5;66;03m# Total elapsed time of the request (approximately)\u001b[39;00m\n\u001b[0;32m    706\u001b[0m elapsed \u001b[38;5;241m=\u001b[39m preferred_clock() \u001b[38;5;241m-\u001b[39m start\n",
      "File \u001b[1;32m~\\AppData\\Local\\miniconda3\\envs\\itba_apa_env\\lib\\site-packages\\requests\\adapters.py:519\u001b[0m, in \u001b[0;36mHTTPAdapter.send\u001b[1;34m(self, request, stream, timeout, verify, cert, proxies)\u001b[0m\n\u001b[0;32m    515\u001b[0m     \u001b[38;5;28;01mif\u001b[39;00m \u001b[38;5;28misinstance\u001b[39m(e\u001b[38;5;241m.\u001b[39mreason, _SSLError):\n\u001b[0;32m    516\u001b[0m         \u001b[38;5;66;03m# This branch is for urllib3 v1.22 and later.\u001b[39;00m\n\u001b[0;32m    517\u001b[0m         \u001b[38;5;28;01mraise\u001b[39;00m SSLError(e, request\u001b[38;5;241m=\u001b[39mrequest)\n\u001b[1;32m--> 519\u001b[0m     \u001b[38;5;28;01mraise\u001b[39;00m \u001b[38;5;167;01mConnectionError\u001b[39;00m(e, request\u001b[38;5;241m=\u001b[39mrequest)\n\u001b[0;32m    521\u001b[0m \u001b[38;5;28;01mexcept\u001b[39;00m ClosedPoolError \u001b[38;5;28;01mas\u001b[39;00m e:\n\u001b[0;32m    522\u001b[0m     \u001b[38;5;28;01mraise\u001b[39;00m \u001b[38;5;167;01mConnectionError\u001b[39;00m(e, request\u001b[38;5;241m=\u001b[39mrequest)\n",
      "\u001b[1;31mConnectionError\u001b[0m: HTTPConnectionPool(host='localhost', port=5017): Max retries exceeded with url: /predict/500 (Caused by NewConnectionError('<urllib3.connection.HTTPConnection object at 0x00000230E8246340>: Failed to establish a new connection: [WinError 10061] No se puede establecer una conexión ya que el equipo de destino denegó expresamente dicha conexión'))"
     ]
    }
   ],
   "source": [
    "tv_value = 500\n",
    "endpoint = \"http://localhost:5017/predict/\" + str(tv_value)\n",
    "print(endpoint)\n",
    "response = requests.get(endpoint)\n"
   ]
  },
  {
   "cell_type": "code",
   "execution_count": null,
   "metadata": {
    "slideshow": {
     "slide_type": "fragment"
    }
   },
   "outputs": [],
   "source": [
    "print(response.status_code)"
   ]
  },
  {
   "cell_type": "code",
   "execution_count": null,
   "metadata": {
    "slideshow": {
     "slide_type": "fragment"
    }
   },
   "outputs": [],
   "source": [
    "response.json()"
   ]
  },
  {
   "cell_type": "code",
   "execution_count": null,
   "metadata": {
    "slideshow": {
     "slide_type": "fragment"
    }
   },
   "outputs": [],
   "source": [
    "response.json()[\"Sales\"]"
   ]
  },
  {
   "cell_type": "markdown",
   "metadata": {},
   "source": [
    "### Ejemplo 2"
   ]
  },
  {
   "cell_type": "markdown",
   "metadata": {},
   "source": [
    "Dada la altura y el peso, utilizamos un clasificador gaussiano Naive Bayes para predecir la especie (perro o gato). \n",
    "\n",
    "A continuación, volcaremos este modelo de aprendizaje automático en un pickle. "
   ]
  },
  {
   "cell_type": "code",
   "execution_count": 27,
   "metadata": {},
   "outputs": [
    {
     "data": {
      "text/html": [
       "<style>#sk-container-id-1 {color: black;}#sk-container-id-1 pre{padding: 0;}#sk-container-id-1 div.sk-toggleable {background-color: white;}#sk-container-id-1 label.sk-toggleable__label {cursor: pointer;display: block;width: 100%;margin-bottom: 0;padding: 0.3em;box-sizing: border-box;text-align: center;}#sk-container-id-1 label.sk-toggleable__label-arrow:before {content: \"▸\";float: left;margin-right: 0.25em;color: #696969;}#sk-container-id-1 label.sk-toggleable__label-arrow:hover:before {color: black;}#sk-container-id-1 div.sk-estimator:hover label.sk-toggleable__label-arrow:before {color: black;}#sk-container-id-1 div.sk-toggleable__content {max-height: 0;max-width: 0;overflow: hidden;text-align: left;background-color: #f0f8ff;}#sk-container-id-1 div.sk-toggleable__content pre {margin: 0.2em;color: black;border-radius: 0.25em;background-color: #f0f8ff;}#sk-container-id-1 input.sk-toggleable__control:checked~div.sk-toggleable__content {max-height: 200px;max-width: 100%;overflow: auto;}#sk-container-id-1 input.sk-toggleable__control:checked~label.sk-toggleable__label-arrow:before {content: \"▾\";}#sk-container-id-1 div.sk-estimator input.sk-toggleable__control:checked~label.sk-toggleable__label {background-color: #d4ebff;}#sk-container-id-1 div.sk-label input.sk-toggleable__control:checked~label.sk-toggleable__label {background-color: #d4ebff;}#sk-container-id-1 input.sk-hidden--visually {border: 0;clip: rect(1px 1px 1px 1px);clip: rect(1px, 1px, 1px, 1px);height: 1px;margin: -1px;overflow: hidden;padding: 0;position: absolute;width: 1px;}#sk-container-id-1 div.sk-estimator {font-family: monospace;background-color: #f0f8ff;border: 1px dotted black;border-radius: 0.25em;box-sizing: border-box;margin-bottom: 0.5em;}#sk-container-id-1 div.sk-estimator:hover {background-color: #d4ebff;}#sk-container-id-1 div.sk-parallel-item::after {content: \"\";width: 100%;border-bottom: 1px solid gray;flex-grow: 1;}#sk-container-id-1 div.sk-label:hover label.sk-toggleable__label {background-color: #d4ebff;}#sk-container-id-1 div.sk-serial::before {content: \"\";position: absolute;border-left: 1px solid gray;box-sizing: border-box;top: 0;bottom: 0;left: 50%;z-index: 0;}#sk-container-id-1 div.sk-serial {display: flex;flex-direction: column;align-items: center;background-color: white;padding-right: 0.2em;padding-left: 0.2em;position: relative;}#sk-container-id-1 div.sk-item {position: relative;z-index: 1;}#sk-container-id-1 div.sk-parallel {display: flex;align-items: stretch;justify-content: center;background-color: white;position: relative;}#sk-container-id-1 div.sk-item::before, #sk-container-id-1 div.sk-parallel-item::before {content: \"\";position: absolute;border-left: 1px solid gray;box-sizing: border-box;top: 0;bottom: 0;left: 50%;z-index: -1;}#sk-container-id-1 div.sk-parallel-item {display: flex;flex-direction: column;z-index: 1;position: relative;background-color: white;}#sk-container-id-1 div.sk-parallel-item:first-child::after {align-self: flex-end;width: 50%;}#sk-container-id-1 div.sk-parallel-item:last-child::after {align-self: flex-start;width: 50%;}#sk-container-id-1 div.sk-parallel-item:only-child::after {width: 0;}#sk-container-id-1 div.sk-dashed-wrapped {border: 1px dashed gray;margin: 0 0.4em 0.5em 0.4em;box-sizing: border-box;padding-bottom: 0.4em;background-color: white;}#sk-container-id-1 div.sk-label label {font-family: monospace;font-weight: bold;display: inline-block;line-height: 1.2em;}#sk-container-id-1 div.sk-label-container {text-align: center;}#sk-container-id-1 div.sk-container {/* jupyter's `normalize.less` sets `[hidden] { display: none; }` but bootstrap.min.css set `[hidden] { display: none !important; }` so we also need the `!important` here to be able to override the default hidden behavior on the sphinx rendered scikit-learn.org. See: https://github.com/scikit-learn/scikit-learn/issues/21755 */display: inline-block !important;position: relative;}#sk-container-id-1 div.sk-text-repr-fallback {display: none;}</style><div id=\"sk-container-id-1\" class=\"sk-top-container\"><div class=\"sk-text-repr-fallback\"><pre>GaussianNB()</pre><b>In a Jupyter environment, please rerun this cell to show the HTML representation or trust the notebook. <br />On GitHub, the HTML representation is unable to render, please try loading this page with nbviewer.org.</b></div><div class=\"sk-container\" hidden><div class=\"sk-item\"><div class=\"sk-estimator sk-toggleable\"><input class=\"sk-toggleable__control sk-hidden--visually\" id=\"sk-estimator-id-1\" type=\"checkbox\" checked><label for=\"sk-estimator-id-1\" class=\"sk-toggleable__label sk-toggleable__label-arrow\">GaussianNB</label><div class=\"sk-toggleable__content\"><pre>GaussianNB()</pre></div></div></div></div></div>"
      ],
      "text/plain": [
       "GaussianNB()"
      ]
     },
     "execution_count": 27,
     "metadata": {},
     "output_type": "execute_result"
    }
   ],
   "source": [
    "import pandas as pd\n",
    "from sklearn.naive_bayes import GaussianNB\n",
    "\n",
    "df = pd.read_csv(\"./Data/data.csv\")\n",
    "\n",
    "X = df[[\"Height\", \"Weight\"]]\n",
    "y = df[\"Species\"]\n",
    "\n",
    "clf = GaussianNB() \n",
    "clf.fit(X, y)"
   ]
  },
  {
   "cell_type": "code",
   "execution_count": 28,
   "metadata": {},
   "outputs": [
    {
     "data": {
      "text/plain": [
       "['clf.pkl']"
      ]
     },
     "execution_count": 28,
     "metadata": {},
     "output_type": "execute_result"
    }
   ],
   "source": [
    "import joblib\n",
    "\n",
    "joblib.dump(clf, \"./Data/clf.pkl\")"
   ]
  },
  {
   "cell_type": "markdown",
   "metadata": {},
   "source": [
    "### Front End\n",
    "\n",
    "Creamos un archivo html denominado website.html:"
   ]
  },
  {
   "cell_type": "raw",
   "metadata": {},
   "source": [
    "<!DOCTYPE html>\n",
    "<html>\n",
    "    <head>\n",
    "        <title>Your Machine Learning App</title>\n",
    "    </head>\n",
    "    \n",
    "    <body>\n",
    "        <form name=\"form\", method=\"POST\", style=\"text-align: center;\">\n",
    "            <br>\n",
    "            Height: <input type=\"number\" name=\"height\", placeholder=\"Enter height in cm\" required/>\n",
    "            <br><br>\n",
    "            Weight: <input type=\"number\" name=\"weight\", placeholder=\"Enter weight in kg\" required/>\n",
    "            <br><br>\n",
    "            <button value=\"Submit\">Run</button>\n",
    "        </form>\n",
    "        <p style=\"text-align: center;\">{{ output }}</p>\n",
    "    </body>\n",
    "</html>"
   ]
  },
  {
   "cell_type": "markdown",
   "metadata": {},
   "source": [
    "Es un HTML sencillo que consiste en 2 barras de entrada, una para la altura y otra para el peso. \n",
    "\n",
    "Podemos notar algo extraño en la línea 16. Efectivamente {{ output }} no es una sintaxis HTML. \n",
    "\n",
    "Mirá lo que pasaría si ejecutaramos el HTML de arriba tal cual:\n",
    "\n",
    "<img src=\"deploy1.jpg\" align=\"center\" />"
   ]
  },
  {
   "cell_type": "markdown",
   "metadata": {},
   "source": [
    "Esta sintaxis {{ }} pertenece a Flask. Cuando ejecutemos este HTML con Flask más tarde, obtendremos resultados diferentes.\n",
    "\n",
    "Algunas cosas que tendremos que tener en cuenta al codear una app en HTML con Flask:\n",
    "\n",
    "- Necesitamos un formulario con el método = \"POST\" .\n",
    "- Crear una carpeta en su directorio llamado \"templates\" y poner el archivo HTML allí para aplicaciones Flask."
   ]
  },
  {
   "cell_type": "markdown",
   "metadata": {},
   "source": [
    "### Back end\n",
    "\n",
    "Creamos un archivo app.py con nuestra app."
   ]
  },
  {
   "cell_type": "raw",
   "metadata": {},
   "source": [
    "from flask import Flask, request, render_template\n",
    "import pandas as pd\n",
    "import joblib\n",
    "\n",
    "\n",
    "# Declare a Flask app\n",
    "app = Flask(__name__)\n",
    "\n",
    "# Main function here\n",
    "# ------------------\n",
    "\n",
    "# Running the app\n",
    "if __name__ == '__main__':\n",
    "    app.run(debug = True)"
   ]
  },
  {
   "cell_type": "markdown",
   "metadata": {},
   "source": [
    "- Aquí, la línea 7 es la declaración de una aplicación Flask, y la línea 14 es sólo la ejecución de la aplicación. La línea 10 es donde pondremos nuestra función principal.\n",
    "<br>\n",
    "\n",
    "- La función principal sólo debe ejecutarse si recibimos una petición POST del HTML. Podemos imponer esta condición mirando la condición request.method == \"POST\".\n",
    "<br>\n",
    "\n",
    "- Si recibimos una petición POST, queremos obtener los valores de las entradas. Podemos lograr esto a través del código, request.form.get(\"nombre\"). Donde \"nombre\" es el nombre de las barras de entrada en el HTML. Para nuestro ejemplo, los nombres de las barras de entrada son \"height\" y \"weight\".\n",
    "<br>\n",
    "\n",
    "- Para llamar al modelo previamente entrenado, utilizamos la función joblib.load(\"clf.pkl\").\n",
    "<br>\n",
    "\n",
    "- Para renderizar un archivo HTML con la sintaxis de Flask, utilizamos la función render_template(\"archivo.HTML\")."
   ]
  },
  {
   "cell_type": "raw",
   "metadata": {},
   "source": [
    "@app.route('/', methods=['GET', 'POST'])\n",
    "def main():\n",
    "    \n",
    "    # If a form is submitted\n",
    "    if request.method == \"POST\":\n",
    "        \n",
    "        # Unpickle classifier\n",
    "        clf = joblib.load(\"clf.pkl\")\n",
    "        \n",
    "        # Get values through input bars\n",
    "        height = request.form.get(\"height\")\n",
    "        weight = request.form.get(\"weight\")\n",
    "        \n",
    "        # Put inputs to dataframe\n",
    "        X = pd.DataFrame([[height, weight]], columns = [\"Height\", \"Weight\"])\n",
    "        \n",
    "        # Get prediction\n",
    "        prediction = clf.predict(X)[0]\n",
    "        \n",
    "    else:\n",
    "        prediction = \"\"\n",
    "        \n",
    "    return render_template(\"website.html\", output = prediction)"
   ]
  },
  {
   "cell_type": "markdown",
   "metadata": {},
   "source": [
    "Con Flask, podemos enviar una variable Python para que aparezca en un archivo HTML. Esta variable puede ser de cualquier clase, incluso un dataframe. La forma de hacerlo es especificándolo en la función render_template(). ¡Esa variable aparecerá en lugar de {{output}}!"
   ]
  },
  {
   "cell_type": "markdown",
   "metadata": {},
   "source": [
    "Para correr una app de Flask:\n",
    "\n",
    "1. Instalamos la librería (si no la tenemos ya instalada)\n",
    "2. Activamos el ambiente de la materia: conda activate itba_apa_env\n",
    "3. Nos movemos a la carpeta de la clase: cd ...\\C13\\flask\n",
    "4. Ejecutamos: python run app.py\n",
    "5. Nos aparecerá un mensaje \"Running on http://127.0.0.1:5000\", o similar. Deberemos abrir esta URL desde nuestro navegador para acceder a la app.\n"
   ]
  },
  {
   "cell_type": "markdown",
   "metadata": {},
   "source": [
    "## Una alternativa a Flask: Streamlit"
   ]
  },
  {
   "cell_type": "markdown",
   "metadata": {},
   "source": [
    "<img src=\"streamlit.png\" align=\"center\" width=\"70%\"/>"
   ]
  },
  {
   "cell_type": "code",
   "execution_count": null,
   "metadata": {},
   "outputs": [],
   "source": [
    "# !pip install streamlit"
   ]
  },
  {
   "cell_type": "markdown",
   "metadata": {},
   "source": [
    "Streamlit es una librería lanzada en 2019 con el objetivo de facilitar el trabajo de los científicos de datos al momento de desarrollar una aplicación web en la que se pueda interactuar con los resultados de un modelo.\n",
    "\n",
    "Se puede desarrollar una app de forma rápida desde Python puro, sin necesidad de recurrir a HTML o CSS.\n",
    "\n",
    "De forma similar a como hacíamos con Flask, necesitamos un archivo .py que funcionará a modo de server. En este caso, podremos prescindir de los archivos HTML, ya que Streamlit se encarga de hacer el render de la página.\n",
    "\n",
    "Para correr una app de Streamlit:\n",
    "\n",
    "1. Instalamos la librería (si no la tenemos ya instalada)\n",
    "2. Activamos el ambiente de la materia: conda activate itba_apa_env\n",
    "3. Nos movemos a la carpeta de la clase: cd ...\\C13\\streamlit\n",
    "4. Ejecutamos: streamlit run app.py\n",
    "\n",
    "Esto automáticamente abrirá una pestaña en nuestro browser con la app.\n",
    "<br><br>\n",
    "\n",
    "\n",
    "En su forma más básica:"
   ]
  },
  {
   "cell_type": "code",
   "execution_count": null,
   "metadata": {},
   "outputs": [],
   "source": [
    "# Imports\n",
    "import streamlit as st\n",
    "# Write a page title\n",
    "st.title('Hello World. This is a Title')"
   ]
  },
  {
   "cell_type": "markdown",
   "metadata": {},
   "source": [
    "Con más texto:"
   ]
  },
  {
   "cell_type": "code",
   "execution_count": null,
   "metadata": {},
   "outputs": [],
   "source": [
    "# Imports\n",
    "import streamlit as st\n",
    "# Write a page title\n",
    "st.title('Hello World. This is a Title')\n",
    "\n",
    "# Subheader\n",
    "st.subheader(‘Here, a subheader’)\n",
    "\n",
    "# Text\n",
    "st.text(‘Lorem ipsum dolor sit amet, consectetur adipiscing elit. Etiam eget ligula eu lectus lobortis condimentum.’)\n",
    "# Using st.write\n",
    "st.write(‘This is can be used for text and other features.’)"
   ]
  },
  {
   "cell_type": "markdown",
   "metadata": {},
   "source": [
    "Agregando imágenes, un mapa, gadgets y una barra vertical:"
   ]
  },
  {
   "cell_type": "code",
   "execution_count": null,
   "metadata": {},
   "outputs": [],
   "source": [
    "import streamlit as st\n",
    "from PIL import Image\n",
    "\n",
    "#Insert a picture\n",
    "# First, read it with PIL\n",
    "st.text('Imagen')\n",
    "image = Image.open('chuck.jpg')\n",
    "# Load Image in the App\n",
    "st.image(image)\n",
    "\n",
    "\n",
    "import seaborn as sns\n",
    "import numpy as np\n",
    "import pandas as pd\n",
    "\n",
    "# Load the Dataset\n",
    "df = sns.load_dataset('tips')\n",
    "\n",
    "# Add Lat Long\n",
    "latlong = {'NY': {'lat': 40.730610, 'lon': -73.935242},\n",
    "           'London': {'lat': 51.509865,'lon': -0.118092},\n",
    "           'Paris': {'lat': 48.864716, 'lon':2.349014},\n",
    "           'Sao Paulo': {'lat': -23.533773,'lon': -46.625290},\n",
    "           'Rome': {'lat': 41.902782,'lon': 12.496366}\n",
    "           }\n",
    "\n",
    "city = ['Paris', 'London', 'NY', 'Sao Paulo', 'Rome']\n",
    "city_random = np.random.choice(city, 244)\n",
    "\n",
    "# Add Cols\n",
    "df['city'] = city_random\n",
    "df['lat'] = [latlong[city]['lat'] for city in city_random]\n",
    "df['lon'] = [latlong[city]['lon'] for city in city_random]\n",
    "\n",
    "# Map\n",
    "st.text(\"\")\n",
    "st.text('Mapa')\n",
    "map_df = df[['lat', 'lon']]\n",
    "st.map(map_df, zoom=1)\n",
    "\n",
    "st.text(\"\")\n",
    "st.text('Radio Button')\n",
    "st.radio('Choose your option', options=('Option 1', 'Option 2', 'Option 3'))\n",
    "         \n",
    "# Slider\n",
    "st.text(\"\")\n",
    "st.text('Slider')\n",
    "st.slider('<-- Slide to the sides -->', min_value=0, max_value=10, value=5, step=1)\n",
    "\n",
    "# Multiselect\n",
    "st.text(\"\")\n",
    "st.text('Multiselect')\n",
    "st.multiselect('What are your favorite colors',\n",
    "            ['Green', 'Yellow', 'Red', 'Blue'],\n",
    "            ['Blue', 'Green']) #pre-selected\n",
    "\n",
    "# Selectbox\n",
    "st.text(\"\")\n",
    "st.text('Select box')\n",
    "st.selectbox('Select Box',options=('Option 1', 'Option 2', 'Option 3'))\n",
    "\n",
    "# text input\n",
    "st.text(\"\")\n",
    "st.text('Text input')\n",
    "title = st.text_input('My App Text Input', 'Write Something...')\n",
    "st.write('You wrote:  ', title)\n",
    "\n",
    "# Adding a text in the sidebar\n",
    "st.sidebar.text('Ejemplo de sidebar')\n",
    "# Add a radio button\n",
    "st.sidebar.radio('label', options=[])"
   ]
  },
  {
   "cell_type": "markdown",
   "metadata": {},
   "source": [
    "¡Ver ejemplo de una app completa en app_completa.py!"
   ]
  },
  {
   "cell_type": "markdown",
   "metadata": {},
   "source": [
    "Algunos ejemplos de cosas que se pueden hacer con Streamlit: https://streamlit.io/gallery"
   ]
  },
  {
   "cell_type": "markdown",
   "metadata": {},
   "source": [
    "## Ahora sí, el momento de hacer deploy"
   ]
  },
  {
   "cell_type": "markdown",
   "metadata": {},
   "source": [
    "Ya tenemos nuestra app desarrollada y funcionando. Ahora bien, ¿cómo podemos subirla a un servicio web para que pueda ser consultada por cualquiera?\n",
    "\n",
    "Existen diferentes alternativas gratuitas que pueden utilizar. Veamos dos: el servicio de hosting de Streamlit y Spaces de HuggingFace.\n",
    "\n",
    "Si tenemos una app desarrollada en Streamlit, lo más conveniente es utilizar Cloud de la misma librería (https://streamlit.io/cloud). Este servicio requiere que tengamos creado un repositorio en GitHub (https://github.com/).\n",
    "\n",
    "<img src=\"github.jpg\" align=\"center\" width=\"60%\"/>\n"
   ]
  },
  {
   "cell_type": "markdown",
   "metadata": {},
   "source": [
    "Un paso previo a hacer deploy, necesario tanto para Streamlit como para Spaces, es volcar en un archivo **requirements.txt** los paquetes utilizados por nuestro proyecto. Para ello existen dos alternativas:\n",
    "- Opción 1. Desde una terminal Anaconda, activar el ambiente, ubicarse en la carpeta del proyecto, y ejecutar el comando: \n",
    "<br>\n",
    "\n",
    "pip freeze > requirements.txt\n",
    "\n",
    "Esto generara un archivo txt con todos los paquetes utilizados por nuestro ambiente, con su respectivas versiones. Tener en cuenta que es conveniente borrar de este txt de líneas que hacen referencia a un archivo puntual. Por ej:\n",
    "<br>\n",
    "\n",
    "anyio @ file:///C:/ci/anyio_1644463701441/work/dist\n",
    "\n",
    "- Opción 2 (mejor). Utilizar el paquete pipreqs. Este paquete analiza los archivos .py en una carpeta para armar por nosotros el archivo requirements con los paquetes y versiones utilizados. Esta opción es preferible porque solo indicamos los paquetes específicos de un proyecto puntual, siendo que es probable que no utilicemos la mayoría de los paquetes instalados en nuestro ambiente. Tener en cuenta que si en nuestro script levantamos un modelo preentrenado, por ej., con Scikit-Learn, deberemos agregar manualmente este paquete, para que luego podamos hacer deploy de la app en una nube.\n",
    "\n",
    "Para generar el archivo requirements.txt con pipreqs: abrimos una terminal Anaconda, activamos el ambiente, nos ubicamos en la carpeta del proyecto, y ejecutar el comando pipreqs."
   ]
  },
  {
   "cell_type": "code",
   "execution_count": null,
   "metadata": {},
   "outputs": [],
   "source": [
    "# pip install pipreqs"
   ]
  },
  {
   "cell_type": "markdown",
   "metadata": {},
   "source": [
    "En total tendremos que realizar tres tareas:\n",
    "1. Crear un repositorio en GitHub\n",
    "2. Clonar el repositorio en nuestra PC y mover los archivos de la app en la carpeta asociada al repositorio.\n",
    "3. Crear una app en Streamlit, vinculada con el repositorio en GitHub."
   ]
  },
  {
   "cell_type": "markdown",
   "metadata": {},
   "source": [
    "### 1ra parte: crear repositorio en GitHub\n",
    "\n",
    "Los pasos que debemos seguir para crear un repositorio de GitHub:\n",
    "1. Crear una cuenta en github.com\n",
    "2. En pestaña \"Repositories\", clickear en \"New\"\n",
    "\n",
    "<img src=\"github2.jpg\" align=\"center\" width=\"100%\"/>\n",
    "<br>\n",
    "\n",
    "3. Elegir un nombre para el repositorio. Clickear la opción \"Add a README file\".\n",
    "<img src=\"github3.jpg\" align=\"center\" width=\"70%\"/>\n",
    "\n",
    "4. Clickear en \"Create Repository\""
   ]
  },
  {
   "cell_type": "markdown",
   "metadata": {},
   "source": [
    "### 2da parte: clonar repositorio en PC\n",
    "\n",
    "Una vez creado el repositorio, debemos clonarlo en nuestra PC. Para ello seguiremos los siguientes pasos:\n",
    "\n",
    "1. Descargamos e instalamos el Cliente de GitHub (https://desktop.github.com/). No utilizaremos el Cliente directamente, pero esto agregará al path los comandos que utilizaremos directamente desde una terminal (puede ser desde el sistema operativo o un Anaconda prompt).\n",
    "<br>\n",
    "\n",
    "2. Desde una terminal nos movemos a la carpeta streamlit en la carpeta de la clase: cd ...\\C13\\streamlit\n",
    "<br>\n",
    "\n",
    "3. Ejecutamos el comando:\n",
    "git clone https://github.com/nombre_usuario/nombre_repositorio. Recomendamos como nombre de repositorio \"itba-apa-gh\".\n",
    "\n",
    "reemplazando nombre_usuario y nombre_repositorio por nuestros datos. Esto creará una carpeta con el nombre de nuestro repositorio en la carpeta streamlit.\n",
    "\n",
    "4. Movemos el contenido de la carpeta \"Archivos para repositorio Github\" a la carpeta recién creada en nuestra PC.\n",
    "<br>\n",
    "\n",
    "5. Desde la terminal, nos vemos a la carpeta recién creada: cd ..\\C13\\streamlit\\nombre_repositorio\n",
    "<br>\n",
    "\n",
    "6. Ejecutamos los comandos:\n",
    "<br>\n",
    "git add .\n",
    "<br>\n",
    "git commit -m \"Primer commit\"\n",
    "<br>\n",
    "git push\n",
    "<br>\n",
    "\n",
    "Debería aparecer un mensaje indicando la subida de los archivos que movimos a la carpeta.\n",
    "\n",
    "Desde Github, podemos verificar que se hayan subido dichos archivos.\n",
    "\n",
    "También podemos realizar la operación inversa, para actualizar los archivos en nuestra PC a partir de cambios en el repositorio en la Web. Para ello utilizamos el comando:\n",
    "<br>\n",
    "\n",
    "git pull\n",
    "\n"
   ]
  },
  {
   "cell_type": "markdown",
   "metadata": {},
   "source": [
    "### 3ra parte: crear app en Streamlit\n",
    "\n",
    "Por último tendremos que crear una app en Streamlit y vincularla con nuestro repositorio en GitHub. Para ello:\n",
    "\n",
    "1. Creamos una cuenta en https://streamlit.io/cloud\n",
    "<br>\n",
    "\n",
    "2. Vamos a https://share.streamlit.io/ y clickeamos \"New app\"\n",
    "\n",
    "<img src=\"streamlit2.png\" align=\"center\" width=\"70%\"/>\n",
    "<br>\n",
    "\n",
    "3. Completamos la ruta de nuestro repositorio en GitHub y el nombre de nuestra app (es decir, el ejecutable .py con la app). Luego clickeamos en \"Deploy!\"\n",
    "\n",
    "<img src=\"streamlit3.png\" align=\"center\" width=\"70%\"/>\n",
    "<br>\n",
    "\n",
    "4. ¡Listo! Desde https://share.streamlit.io/ veremos el nombre de nuestra app. Al hacer click podremos acceder a la misma. Por ej: https://share.streamlit.io/app/itba-apa-gh/"
   ]
  },
  {
   "cell_type": "markdown",
   "metadata": {},
   "source": [
    "### Variante con Spaces de HuggingFace y Docker\n",
    "\n",
    "<img src=\"hf.png\" align=\"center\" width=\"20%\"/>\n",
    "<img src=\"spaces.png\" align=\"center\" width=\"70%\"/>\n",
    "\n",
    "Otra opción es para hacer deploy de modelos de forma gratuita es con el servicio de Nube de HuggingFace, llamado Spaces. También tenemos la opción de subir un modelo en Streamlit, pero ahora veremos como subir una app con **Docker**.\n",
    "<br>\n",
    "\n",
    "<img src=\"docker.png\" align=\"center\" width=\"30%\"/>\n",
    "\n",
    "¿Qué es Docker?\n",
    "\n",
    "Según Wikipedia, \"Docker es un proyecto de código abierto que automatiza el despliegue de aplicaciones dentro de contenedores de software, proporcionando una capa adicional de abstracción y automatización de virtualización de aplicaciones en múltiples sistemas operativos.\". En otras palabras, **es un contenedor**, lo que nos permite virtualizar un entorno y un sistema operativo determinado, de forma tal de encapsular todo lo que ocurre en nuestra app, para así asegurarnos que siempre funcione correctamente.\n",
    "<br>\n",
    "\n",
    "Si queremos utilizar Flask (u otro paquete similar, llamado FastAPI) para desarrollar nuestra app de ML, una buena opción es utilizar el servicio Spaces de HuggingFace, con la opción Docker.\n",
    "Simplemente deberemos seleccionar la opción Docker al momento de crear un nuevo Space:\n",
    "\n",
    "<img src=\"spaces2.png\" align=\"center\" width=\"30%\"/>\n",
    "\n",
    "¿Cómo funciona Spaces? (https://huggingface.co/spaces). De forma muy similar a GitHub. Es, de hecho, un repositorio, y nos podemos comunicar con él a través del lenguaje Git, el mismo utilizado por GitHub y GitLab.\n",
    "\n",
    "La particularidad de trabajar con Docker es que deberemos incluir un archivo de tipo Dockerfile (se llama \"Dockerfile\", sin extensión), que contendrá la información necesaria para que nuestro contenedor funcione autónomamente:\n",
    "\n",
    "<img src=\"spaces3.png\" align=\"center\" width=\"60%\"/>\n",
    "\n",
    "Este archivo es muy sencillo, y podemos utilizar el siguiente modelo de referencia:"
   ]
  },
  {
   "cell_type": "raw",
   "metadata": {},
   "source": [
    "FROM python:3.9\n",
    "\n",
    "WORKDIR /code\n",
    "\n",
    "COPY ./requirements.txt /code/requirements.txt\n",
    "\n",
    "RUN pip install --no-cache-dir --upgrade -r /code/requirements.txt\n",
    "\n",
    "COPY . .\n",
    "\n",
    "CMD [\"gunicorn\", \"-b\", \"0.0.0.0:7860\", \"app:app\"]"
   ]
  },
  {
   "cell_type": "markdown",
   "metadata": {},
   "source": [
    "La conexión con nuestro repositorio será idéntica a la mostrada en el caso Streamlit/GitHub.\n",
    "Tendrán que ir a carpeta ..\\C13\\flask, clonar el repositorio creado en Spaces (el nombre recomendado es itba-apa-flask), y copiar los archivos de la carpeta \"Archivos para repositorio Spaces\". Finalmente, tendrán que hacer add, commit y push, para subir los archivos del modelo.\n",
    "<br>\n",
    "\n",
    "Si todo sale bien, deberían ver la app funcionando al hacer click en \"App\":\n",
    "\n",
    "<img src=\"spaces4.png\" align=\"center\" width=\"100%\"/>"
   ]
  },
  {
   "cell_type": "markdown",
   "metadata": {
    "collapsed": true
   },
   "source": [
    "**Atención**: tener en cuenta que al hacer deploy con Flask previamente deberemos instalar la librería **Gunicorn**."
   ]
  },
  {
   "cell_type": "code",
   "execution_count": null,
   "metadata": {},
   "outputs": [],
   "source": [
    "# pip install gunicorn"
   ]
  },
  {
   "cell_type": "markdown",
   "metadata": {
    "slideshow": {
     "slide_type": "slide"
    }
   },
   "source": [
    "## BIBLIOGRAFÍA\n",
    "\n",
    "\n",
    "<a href=\"https://docs.python.org/3/library/shelve.html\" target=\"_blank\">Shelve</a>\n",
    "\n",
    "<a href=\"https://docs.python.org/3/library/pickle.html\" target=\"_blank\">Pickle</a>\n",
    "\n",
    "<a href=\"https://flask.palletsprojects.com/en/2.0.x/\" target=\"_blank\">Flask</a>\n",
    "\n",
    "<a href=\"https://www.youtube.com/watch?v=9J1nJOivdyw\" target=\"_blank\">Web Server Concepts and Examples</a>\n",
    "\n",
    "<a href=\"https://medium.com/gustavorsantos/streamlit-basics-build-your-first-web-app-ffd377a85666\" target=\"_blank\">Streamlit Basics</a>\n",
    "\n",
    "https://towardsdatascience.com/building-a-machine-learning-web-application-using-flask-29fa9ea11dac\n",
    "\n"
   ]
  }
 ],
 "metadata": {
  "kernelspec": {
   "display_name": "Python 3 (ipykernel)",
   "language": "python",
   "name": "python3"
  },
  "language_info": {
   "codemirror_mode": {
    "name": "ipython",
    "version": 3
   },
   "file_extension": ".py",
   "mimetype": "text/x-python",
   "name": "python",
   "nbconvert_exporter": "python",
   "pygments_lexer": "ipython3",
   "version": "3.8.18"
  }
 },
 "nbformat": 4,
 "nbformat_minor": 4
}
