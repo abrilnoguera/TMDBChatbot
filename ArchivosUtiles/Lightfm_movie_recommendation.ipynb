{
 "cells": [
  {
   "cell_type": "markdown",
   "metadata": {},
   "source": [
    "# Movie recommedation system using lightfm library"
   ]
  },
  {
   "cell_type": "code",
   "execution_count": 4,
   "metadata": {},
   "outputs": [
    {
     "ename": "ModuleNotFoundError",
     "evalue": "No module named 'lightfm'",
     "output_type": "error",
     "traceback": [
      "\u001b[0;31m---------------------------------------------------------------------------\u001b[0m",
      "\u001b[0;31mModuleNotFoundError\u001b[0m                       Traceback (most recent call last)",
      "\u001b[1;32m/Users/anoguera/Documents/GitHub/Trabajo2APA/ArchivosUtiles/Lightfm_movie_recommendation.ipynb Cell 2\u001b[0m line \u001b[0;36m2\n\u001b[1;32m      <a href='vscode-notebook-cell:/Users/anoguera/Documents/GitHub/Trabajo2APA/ArchivosUtiles/Lightfm_movie_recommendation.ipynb#W1sZmlsZQ%3D%3D?line=0'>1</a>\u001b[0m \u001b[39mimport\u001b[39;00m \u001b[39mnumpy\u001b[39;00m \u001b[39mas\u001b[39;00m \u001b[39mnp\u001b[39;00m\n\u001b[0;32m----> <a href='vscode-notebook-cell:/Users/anoguera/Documents/GitHub/Trabajo2APA/ArchivosUtiles/Lightfm_movie_recommendation.ipynb#W1sZmlsZQ%3D%3D?line=1'>2</a>\u001b[0m \u001b[39mfrom\u001b[39;00m \u001b[39mlightfm\u001b[39;00m\u001b[39m.\u001b[39;00m\u001b[39mdatasets\u001b[39;00m \u001b[39mimport\u001b[39;00m fetch_movielens\n\u001b[1;32m      <a href='vscode-notebook-cell:/Users/anoguera/Documents/GitHub/Trabajo2APA/ArchivosUtiles/Lightfm_movie_recommendation.ipynb#W1sZmlsZQ%3D%3D?line=2'>3</a>\u001b[0m \u001b[39mfrom\u001b[39;00m \u001b[39mlightfm\u001b[39;00m \u001b[39mimport\u001b[39;00m LightFM\n",
      "\u001b[0;31mModuleNotFoundError\u001b[0m: No module named 'lightfm'"
     ]
    }
   ],
   "source": [
    "import numpy as np\n",
    "from lightfm.datasets import fetch_movielens\n",
    "from lightfm import LightFM"
   ]
  },
  {
   "cell_type": "code",
   "execution_count": 2,
   "metadata": {},
   "outputs": [
    {
     "name": "stdout",
     "output_type": "stream",
     "text": [
      "<943x1682 sparse matrix of type '<class 'numpy.int32'>'\n",
      "\twith 49906 stored elements in COOrdinate format>\n",
      "<943x1682 sparse matrix of type '<class 'numpy.int32'>'\n",
      "\twith 5469 stored elements in COOrdinate format>\n"
     ]
    }
   ],
   "source": [
    "#fetch data and format\n",
    "data = fetch_movielens(min_rating = 4.0)\n",
    "\n",
    "#print training and testing data\n",
    "print(repr(data['train']))\n",
    "print(repr(data['test']))"
   ]
  },
  {
   "cell_type": "code",
   "execution_count": 3,
   "metadata": {},
   "outputs": [
    {
     "data": {
      "text/plain": [
       "{'item_feature_labels': array(['Toy Story (1995)', 'GoldenEye (1995)', 'Four Rooms (1995)', ...,\n",
       "        'Sliding Doors (1998)', 'You So Crazy (1994)',\n",
       "        'Scream of Stone (Schrei aus Stein) (1991)'], dtype=object),\n",
       " 'item_features': <1682x1682 sparse matrix of type '<class 'numpy.float32'>'\n",
       " \twith 1682 stored elements in Compressed Sparse Row format>,\n",
       " 'item_labels': array(['Toy Story (1995)', 'GoldenEye (1995)', 'Four Rooms (1995)', ...,\n",
       "        'Sliding Doors (1998)', 'You So Crazy (1994)',\n",
       "        'Scream of Stone (Schrei aus Stein) (1991)'], dtype=object),\n",
       " 'test': <943x1682 sparse matrix of type '<class 'numpy.int32'>'\n",
       " \twith 5469 stored elements in COOrdinate format>,\n",
       " 'train': <943x1682 sparse matrix of type '<class 'numpy.int32'>'\n",
       " \twith 49906 stored elements in COOrdinate format>}"
      ]
     },
     "execution_count": 3,
     "metadata": {},
     "output_type": "execute_result"
    }
   ],
   "source": [
    "data"
   ]
  },
  {
   "cell_type": "code",
   "execution_count": 4,
   "metadata": {},
   "outputs": [
    {
     "data": {
      "text/plain": [
       "<lightfm.lightfm.LightFM at 0x7f050829fb00>"
      ]
     },
     "execution_count": 4,
     "metadata": {},
     "output_type": "execute_result"
    }
   ],
   "source": [
    "#create model\n",
    "model = LightFM(loss='warp')\n",
    "#train model\n",
    "model.fit(data['train'], epochs = 30, num_threads=2)"
   ]
  },
  {
   "cell_type": "code",
   "execution_count": 5,
   "metadata": {},
   "outputs": [],
   "source": [
    "def sample_recommendation(model, data, user_ids):\n",
    "\n",
    "    #number of users and movies in training data\n",
    "    n_users, n_items = data['train'].shape\n",
    "\n",
    "    #generate recommendations for each user input\n",
    "    for user_id in user_ids: \n",
    "\n",
    "        #movies they always like\n",
    "        known_positives = data['item_labels'][data['train'].tocsr()[user_id].indices]\n",
    "\n",
    "        #movies the model predicts they will like\n",
    "        scores = model.predict(user_id, np.arange(n_items))\n",
    "        #rank in order of most liked to least\n",
    "        top_items = data['item_labels'][np.argsort(-scores)]\n",
    "\n",
    "        #print results\n",
    "        print(\"User %s\" % user_id)\n",
    "        print(\"         Known positives:\")\n",
    "\n",
    "        for x in known_positives[:3]:\n",
    "            print(\"          %s\" % x)\n",
    "        \n",
    "        print(\"         Recommend:\")\n",
    "\n",
    "        for x in top_items[:3]:\n",
    "            print(\"         %s\" % x)"
   ]
  },
  {
   "cell_type": "code",
   "execution_count": 6,
   "metadata": {},
   "outputs": [
    {
     "name": "stdout",
     "output_type": "stream",
     "text": [
      "User 0\n",
      "         Known positives:\n",
      "          Toy Story (1995)\n",
      "          Four Rooms (1995)\n",
      "          Shanghai Triad (Yao a yao yao dao waipo qiao) (1995)\n",
      "         Recommend:\n",
      "         Pulp Fiction (1994)\n",
      "         Fargo (1996)\n",
      "         Star Wars (1977)\n",
      "User 3\n",
      "         Known positives:\n",
      "          Seven (Se7en) (1995)\n",
      "          Contact (1997)\n",
      "          Starship Troopers (1997)\n",
      "         Recommend:\n",
      "         Scream (1996)\n",
      "         Starship Troopers (1997)\n",
      "         Chasing Amy (1997)\n",
      "User 25\n",
      "         Known positives:\n",
      "          Dead Man Walking (1995)\n",
      "          Star Wars (1977)\n",
      "          Fargo (1996)\n",
      "         Recommend:\n",
      "         Fargo (1996)\n",
      "         Contact (1997)\n",
      "         Trainspotting (1996)\n",
      "User 34\n",
      "         Known positives:\n",
      "          Air Force One (1997)\n",
      "          Game, The (1997)\n",
      "          Saint, The (1997)\n",
      "         Recommend:\n",
      "         Air Force One (1997)\n",
      "         Titanic (1997)\n",
      "         Saint, The (1997)\n",
      "User 450\n",
      "         Known positives:\n",
      "          Contact (1997)\n",
      "          George of the Jungle (1997)\n",
      "          Event Horizon (1997)\n",
      "         Recommend:\n",
      "         Kiss the Girls (1997)\n",
      "         Saint, The (1997)\n",
      "         Devil's Advocate, The (1997)\n"
     ]
    }
   ],
   "source": [
    "sample_recommendation(model, data, [0, 3, 25, 34, 450])"
   ]
  },
  {
   "cell_type": "code",
   "execution_count": null,
   "metadata": {},
   "outputs": [],
   "source": []
  }
 ],
 "metadata": {
  "kernelspec": {
   "display_name": "Python 3",
   "language": "python",
   "name": "python3"
  },
  "language_info": {
   "codemirror_mode": {
    "name": "ipython",
    "version": 3
   },
   "file_extension": ".py",
   "mimetype": "text/x-python",
   "name": "python",
   "nbconvert_exporter": "python",
   "pygments_lexer": "ipython3",
   "version": "3.8.18"
  }
 },
 "nbformat": 4,
 "nbformat_minor": 2
}
